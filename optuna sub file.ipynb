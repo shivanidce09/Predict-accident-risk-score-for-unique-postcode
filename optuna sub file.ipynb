{
 "cells": [
  {
   "cell_type": "markdown",
   "id": "93ad3917",
   "metadata": {},
   "source": [
    "# PROBLEM STATEMENT : \n",
    "#### URL : \n",
    "\n",
    "https://machinehack.com/hackathon/predict_accident_risk_score_for_unique_postcode/overview\n",
    "\n",
    "According to IBEF “Domestic automobiles production increased at 2.36% CAGR between FY16-20 with 26.36 million vehicles being manufactured in the country in FY20.Overall, domestic automobiles sales increased at 1.29% CAGR between FY16-FY20 with 21.55 million vehicles being sold in FY20”.The rise in vehicles on the road will also lead to multiple challenges and the road will be more vulnerable to accidents.\n",
    "\n",
    "Increased accident rates also leads to more insurance claims and payouts rise for insurance companies.\n",
    "\n",
    "In order to pre-emptively plan for the losses, the insurance firms leverage accident data to understand the risk across the geographical units e.g. Postal code/district etc. In this challenge, we are providing you the dataset to predict the “Accident_Risk_Index” against the postcodes.\n",
    "\n",
    "Accident_Risk_Index (mean casualties at a postcode) = sum(Number_of_casualities)/count(Accident_ID)"
   ]
  },
  {
   "cell_type": "code",
   "execution_count": 1,
   "id": "dc601b8a",
   "metadata": {},
   "outputs": [],
   "source": [
    "import pandas as pd\n",
    "import numpy as np\n",
    "import seaborn as sns\n",
    "import matplotlib.pyplot as plt"
   ]
  },
  {
   "cell_type": "code",
   "execution_count": 2,
   "id": "6fd751c4",
   "metadata": {},
   "outputs": [],
   "source": [
    "from scipy import stats"
   ]
  },
  {
   "cell_type": "code",
   "execution_count": 3,
   "id": "c0710e98",
   "metadata": {},
   "outputs": [],
   "source": [
    "train=pd.read_csv(\"train.csv\")\n",
    "test=pd.read_csv(\"test.csv\")\n",
    "population=pd.read_csv(\"population.csv\")\n",
    "sample_sub=pd.read_csv(\"sample_submission.csv\")\n",
    "roads_network=pd.read_csv(\"roads_network.csv\")"
   ]
  },
  {
   "cell_type": "code",
   "execution_count": 4,
   "id": "05fc6330",
   "metadata": {},
   "outputs": [
    {
     "data": {
      "text/plain": [
       "0"
      ]
     },
     "execution_count": 4,
     "metadata": {},
     "output_type": "execute_result"
    }
   ],
   "source": [
    "roads_network=roads_network.dropna()\n",
    "roads_network=roads_network.reset_index(drop=True)\n",
    "roads_network.isnull().sum().sum()"
   ]
  },
  {
   "cell_type": "code",
   "execution_count": 5,
   "id": "60a9dc94",
   "metadata": {},
   "outputs": [
    {
     "name": "stdout",
     "output_type": "stream",
     "text": [
      "train :  (478741, 27)\n",
      "test :  (121259, 27)\n",
      "population :  (8035, 10)\n",
      "roads_network :  (90352, 8)\n"
     ]
    }
   ],
   "source": [
    "print('train : ', train.shape)\n",
    "print('test : ', test.shape)\n",
    "print('population : ', population.shape)\n",
    "print('roads_network : ',roads_network.shape)"
   ]
  },
  {
   "cell_type": "code",
   "execution_count": 6,
   "id": "2fd7fe12",
   "metadata": {},
   "outputs": [
    {
     "name": "stdout",
     "output_type": "stream",
     "text": [
      "train :  95625\n",
      "test :  49772\n",
      "population :  8035\n",
      "roads_network :  74681\n"
     ]
    }
   ],
   "source": [
    "print('train : ', train.postcode.nunique())\n",
    "print('test : ', test.postcode.nunique())\n",
    "print('population : ', population.postcode.nunique())\n",
    "print('roads_network : ',roads_network.postcode.nunique())"
   ]
  },
  {
   "cell_type": "code",
   "execution_count": 8,
   "id": "b915787d",
   "metadata": {},
   "outputs": [
    {
     "data": {
      "text/html": [
       "<div>\n",
       "<style scoped>\n",
       "    .dataframe tbody tr th:only-of-type {\n",
       "        vertical-align: middle;\n",
       "    }\n",
       "\n",
       "    .dataframe tbody tr th {\n",
       "        vertical-align: top;\n",
       "    }\n",
       "\n",
       "    .dataframe thead th {\n",
       "        text-align: right;\n",
       "    }\n",
       "</style>\n",
       "<table border=\"1\" class=\"dataframe\">\n",
       "  <thead>\n",
       "    <tr style=\"text-align: right;\">\n",
       "      <th></th>\n",
       "      <th>count</th>\n",
       "      <th>mean</th>\n",
       "      <th>std</th>\n",
       "      <th>min</th>\n",
       "      <th>25%</th>\n",
       "      <th>50%</th>\n",
       "      <th>75%</th>\n",
       "      <th>max</th>\n",
       "    </tr>\n",
       "  </thead>\n",
       "  <tbody>\n",
       "    <tr>\n",
       "      <th>Accident_ID</th>\n",
       "      <td>478741.0</td>\n",
       "      <td>299892.954673</td>\n",
       "      <td>173261.274950</td>\n",
       "      <td>1.0</td>\n",
       "      <td>149718.0</td>\n",
       "      <td>299791.0</td>\n",
       "      <td>449990.0</td>\n",
       "      <td>599999.0</td>\n",
       "    </tr>\n",
       "    <tr>\n",
       "      <th>Police_Force</th>\n",
       "      <td>478741.0</td>\n",
       "      <td>31.610178</td>\n",
       "      <td>24.941660</td>\n",
       "      <td>1.0</td>\n",
       "      <td>12.0</td>\n",
       "      <td>33.0</td>\n",
       "      <td>45.0</td>\n",
       "      <td>98.0</td>\n",
       "    </tr>\n",
       "    <tr>\n",
       "      <th>Number_of_Vehicles</th>\n",
       "      <td>478741.0</td>\n",
       "      <td>1.745695</td>\n",
       "      <td>0.626458</td>\n",
       "      <td>1.0</td>\n",
       "      <td>1.0</td>\n",
       "      <td>2.0</td>\n",
       "      <td>2.0</td>\n",
       "      <td>4.0</td>\n",
       "    </tr>\n",
       "    <tr>\n",
       "      <th>Number_of_Casualties</th>\n",
       "      <td>478741.0</td>\n",
       "      <td>1.463528</td>\n",
       "      <td>0.816019</td>\n",
       "      <td>1.0</td>\n",
       "      <td>1.0</td>\n",
       "      <td>1.0</td>\n",
       "      <td>2.0</td>\n",
       "      <td>5.0</td>\n",
       "    </tr>\n",
       "    <tr>\n",
       "      <th>Day_of_Week</th>\n",
       "      <td>478741.0</td>\n",
       "      <td>4.367898</td>\n",
       "      <td>1.872983</td>\n",
       "      <td>1.0</td>\n",
       "      <td>3.0</td>\n",
       "      <td>5.0</td>\n",
       "      <td>6.0</td>\n",
       "      <td>7.0</td>\n",
       "    </tr>\n",
       "    <tr>\n",
       "      <th>Local_Authority_(District)</th>\n",
       "      <td>478741.0</td>\n",
       "      <td>357.457132</td>\n",
       "      <td>256.530105</td>\n",
       "      <td>1.0</td>\n",
       "      <td>103.0</td>\n",
       "      <td>314.0</td>\n",
       "      <td>521.0</td>\n",
       "      <td>941.0</td>\n",
       "    </tr>\n",
       "    <tr>\n",
       "      <th>1st_Road_Class</th>\n",
       "      <td>478741.0</td>\n",
       "      <td>4.381542</td>\n",
       "      <td>1.369579</td>\n",
       "      <td>1.0</td>\n",
       "      <td>3.0</td>\n",
       "      <td>4.0</td>\n",
       "      <td>6.0</td>\n",
       "      <td>6.0</td>\n",
       "    </tr>\n",
       "    <tr>\n",
       "      <th>1st_Road_Number</th>\n",
       "      <td>478741.0</td>\n",
       "      <td>946.663375</td>\n",
       "      <td>1730.926876</td>\n",
       "      <td>0.0</td>\n",
       "      <td>10.0</td>\n",
       "      <td>336.0</td>\n",
       "      <td>569.0</td>\n",
       "      <td>9832.0</td>\n",
       "    </tr>\n",
       "    <tr>\n",
       "      <th>Speed_limit</th>\n",
       "      <td>478741.0</td>\n",
       "      <td>37.035976</td>\n",
       "      <td>12.854299</td>\n",
       "      <td>20.0</td>\n",
       "      <td>30.0</td>\n",
       "      <td>30.0</td>\n",
       "      <td>40.0</td>\n",
       "      <td>70.0</td>\n",
       "    </tr>\n",
       "    <tr>\n",
       "      <th>2nd_Road_Class</th>\n",
       "      <td>478741.0</td>\n",
       "      <td>2.430068</td>\n",
       "      <td>3.268563</td>\n",
       "      <td>-1.0</td>\n",
       "      <td>-1.0</td>\n",
       "      <td>3.0</td>\n",
       "      <td>6.0</td>\n",
       "      <td>6.0</td>\n",
       "    </tr>\n",
       "    <tr>\n",
       "      <th>2nd_Road_Number</th>\n",
       "      <td>478741.0</td>\n",
       "      <td>0.000000</td>\n",
       "      <td>0.000000</td>\n",
       "      <td>0.0</td>\n",
       "      <td>0.0</td>\n",
       "      <td>0.0</td>\n",
       "      <td>0.0</td>\n",
       "      <td>0.0</td>\n",
       "    </tr>\n",
       "    <tr>\n",
       "      <th>Urban_or_Rural_Area</th>\n",
       "      <td>478741.0</td>\n",
       "      <td>1.402050</td>\n",
       "      <td>0.490313</td>\n",
       "      <td>1.0</td>\n",
       "      <td>1.0</td>\n",
       "      <td>1.0</td>\n",
       "      <td>2.0</td>\n",
       "      <td>2.0</td>\n",
       "    </tr>\n",
       "  </tbody>\n",
       "</table>\n",
       "</div>"
      ],
      "text/plain": [
       "                               count           mean            std   min  \\\n",
       "Accident_ID                 478741.0  299892.954673  173261.274950   1.0   \n",
       "Police_Force                478741.0      31.610178      24.941660   1.0   \n",
       "Number_of_Vehicles          478741.0       1.745695       0.626458   1.0   \n",
       "Number_of_Casualties        478741.0       1.463528       0.816019   1.0   \n",
       "Day_of_Week                 478741.0       4.367898       1.872983   1.0   \n",
       "Local_Authority_(District)  478741.0     357.457132     256.530105   1.0   \n",
       "1st_Road_Class              478741.0       4.381542       1.369579   1.0   \n",
       "1st_Road_Number             478741.0     946.663375    1730.926876   0.0   \n",
       "Speed_limit                 478741.0      37.035976      12.854299  20.0   \n",
       "2nd_Road_Class              478741.0       2.430068       3.268563  -1.0   \n",
       "2nd_Road_Number             478741.0       0.000000       0.000000   0.0   \n",
       "Urban_or_Rural_Area         478741.0       1.402050       0.490313   1.0   \n",
       "\n",
       "                                 25%       50%       75%       max  \n",
       "Accident_ID                 149718.0  299791.0  449990.0  599999.0  \n",
       "Police_Force                    12.0      33.0      45.0      98.0  \n",
       "Number_of_Vehicles               1.0       2.0       2.0       4.0  \n",
       "Number_of_Casualties             1.0       1.0       2.0       5.0  \n",
       "Day_of_Week                      3.0       5.0       6.0       7.0  \n",
       "Local_Authority_(District)     103.0     314.0     521.0     941.0  \n",
       "1st_Road_Class                   3.0       4.0       6.0       6.0  \n",
       "1st_Road_Number                 10.0     336.0     569.0    9832.0  \n",
       "Speed_limit                     30.0      30.0      40.0      70.0  \n",
       "2nd_Road_Class                  -1.0       3.0       6.0       6.0  \n",
       "2nd_Road_Number                  0.0       0.0       0.0       0.0  \n",
       "Urban_or_Rural_Area              1.0       1.0       2.0       2.0  "
      ]
     },
     "execution_count": 8,
     "metadata": {},
     "output_type": "execute_result"
    }
   ],
   "source": [
    "train.describe().transpose()"
   ]
  },
  {
   "cell_type": "code",
   "execution_count": 9,
   "id": "068adba5",
   "metadata": {
    "scrolled": false
   },
   "outputs": [
    {
     "data": {
      "text/html": [
       "<div>\n",
       "<style scoped>\n",
       "    .dataframe tbody tr th:only-of-type {\n",
       "        vertical-align: middle;\n",
       "    }\n",
       "\n",
       "    .dataframe tbody tr th {\n",
       "        vertical-align: top;\n",
       "    }\n",
       "\n",
       "    .dataframe thead th {\n",
       "        text-align: right;\n",
       "    }\n",
       "</style>\n",
       "<table border=\"1\" class=\"dataframe\">\n",
       "  <thead>\n",
       "    <tr style=\"text-align: right;\">\n",
       "      <th></th>\n",
       "      <th>WKT</th>\n",
       "      <th>roadClassi</th>\n",
       "      <th>roadFuncti</th>\n",
       "      <th>formOfWay</th>\n",
       "      <th>length</th>\n",
       "      <th>primaryRou</th>\n",
       "      <th>distance to the nearest point on rd</th>\n",
       "      <th>postcode</th>\n",
       "    </tr>\n",
       "  </thead>\n",
       "  <tbody>\n",
       "    <tr>\n",
       "      <th>0</th>\n",
       "      <td>POINT (-2.3501 56.603923)</td>\n",
       "      <td>A Road</td>\n",
       "      <td>A Road</td>\n",
       "      <td>Single Carriageway</td>\n",
       "      <td>2643.0</td>\n",
       "      <td>1.0</td>\n",
       "      <td>1.256769</td>\n",
       "      <td>AB1</td>\n",
       "    </tr>\n",
       "    <tr>\n",
       "      <th>1</th>\n",
       "      <td>POINT (-2.021334 57.130142)</td>\n",
       "      <td>A Road</td>\n",
       "      <td>A Road</td>\n",
       "      <td>Single Carriageway</td>\n",
       "      <td>2643.0</td>\n",
       "      <td>1.0</td>\n",
       "      <td>1.834101</td>\n",
       "      <td>AB1 9NN</td>\n",
       "    </tr>\n",
       "    <tr>\n",
       "      <th>2</th>\n",
       "      <td>POINT (-2.108598 57.146338)</td>\n",
       "      <td>A Road</td>\n",
       "      <td>A Road</td>\n",
       "      <td>Single Carriageway</td>\n",
       "      <td>2643.0</td>\n",
       "      <td>1.0</td>\n",
       "      <td>1.830243</td>\n",
       "      <td>AB10 1UH</td>\n",
       "    </tr>\n",
       "    <tr>\n",
       "      <th>3</th>\n",
       "      <td>POINT (-2.093928 57.148218)</td>\n",
       "      <td>A Road</td>\n",
       "      <td>A Road</td>\n",
       "      <td>Single Carriageway</td>\n",
       "      <td>2643.0</td>\n",
       "      <td>1.0</td>\n",
       "      <td>1.835092</td>\n",
       "      <td>AB10 1YL</td>\n",
       "    </tr>\n",
       "    <tr>\n",
       "      <th>4</th>\n",
       "      <td>POINT (-2.116089 57.131671)</td>\n",
       "      <td>A Road</td>\n",
       "      <td>A Road</td>\n",
       "      <td>Single Carriageway</td>\n",
       "      <td>2643.0</td>\n",
       "      <td>1.0</td>\n",
       "      <td>1.814373</td>\n",
       "      <td>AB10 6AT</td>\n",
       "    </tr>\n",
       "  </tbody>\n",
       "</table>\n",
       "</div>"
      ],
      "text/plain": [
       "                           WKT roadClassi roadFuncti           formOfWay  \\\n",
       "0    POINT (-2.3501 56.603923)     A Road     A Road  Single Carriageway   \n",
       "1  POINT (-2.021334 57.130142)     A Road     A Road  Single Carriageway   \n",
       "2  POINT (-2.108598 57.146338)     A Road     A Road  Single Carriageway   \n",
       "3  POINT (-2.093928 57.148218)     A Road     A Road  Single Carriageway   \n",
       "4  POINT (-2.116089 57.131671)     A Road     A Road  Single Carriageway   \n",
       "\n",
       "   length  primaryRou  distance to the nearest point on rd  postcode  \n",
       "0  2643.0         1.0                             1.256769      AB1   \n",
       "1  2643.0         1.0                             1.834101   AB1 9NN  \n",
       "2  2643.0         1.0                             1.830243  AB10 1UH  \n",
       "3  2643.0         1.0                             1.835092  AB10 1YL  \n",
       "4  2643.0         1.0                             1.814373  AB10 6AT  "
      ]
     },
     "execution_count": 9,
     "metadata": {},
     "output_type": "execute_result"
    }
   ],
   "source": [
    "roads_network.head()"
   ]
  },
  {
   "cell_type": "code",
   "execution_count": 10,
   "id": "5027a829",
   "metadata": {
    "scrolled": true
   },
   "outputs": [
    {
     "data": {
      "text/html": [
       "<div>\n",
       "<style scoped>\n",
       "    .dataframe tbody tr th:only-of-type {\n",
       "        vertical-align: middle;\n",
       "    }\n",
       "\n",
       "    .dataframe tbody tr th {\n",
       "        vertical-align: top;\n",
       "    }\n",
       "\n",
       "    .dataframe thead th {\n",
       "        text-align: right;\n",
       "    }\n",
       "</style>\n",
       "<table border=\"1\" class=\"dataframe\">\n",
       "  <thead>\n",
       "    <tr style=\"text-align: right;\">\n",
       "      <th></th>\n",
       "      <th>postcode</th>\n",
       "      <th>Rural Urban</th>\n",
       "      <th>Variable: All usual residents; measures: Value</th>\n",
       "      <th>Variable: Males; measures: Value</th>\n",
       "      <th>Variable: Females; measures: Value</th>\n",
       "      <th>Variable: Lives in a household; measures: Value</th>\n",
       "      <th>Variable: Lives in a communal establishment; measures: Value</th>\n",
       "      <th>Variable: Schoolchild or full-time student aged 4 and over at their non term-time address; measures: Value</th>\n",
       "      <th>Variable: Area (Hectares); measures: Value</th>\n",
       "      <th>Variable: Density (number of persons per hectare); measures: Value</th>\n",
       "    </tr>\n",
       "  </thead>\n",
       "  <tbody>\n",
       "    <tr>\n",
       "      <th>0</th>\n",
       "      <td>AL1  1</td>\n",
       "      <td>Total</td>\n",
       "      <td>5453</td>\n",
       "      <td>2715</td>\n",
       "      <td>2738</td>\n",
       "      <td>5408</td>\n",
       "      <td>45</td>\n",
       "      <td>75</td>\n",
       "      <td>225.63</td>\n",
       "      <td>24.2</td>\n",
       "    </tr>\n",
       "    <tr>\n",
       "      <th>1</th>\n",
       "      <td>AL1  2</td>\n",
       "      <td>Total</td>\n",
       "      <td>6523</td>\n",
       "      <td>3183</td>\n",
       "      <td>3340</td>\n",
       "      <td>6418</td>\n",
       "      <td>105</td>\n",
       "      <td>77</td>\n",
       "      <td>286.59</td>\n",
       "      <td>22.8</td>\n",
       "    </tr>\n",
       "    <tr>\n",
       "      <th>2</th>\n",
       "      <td>AL1  3</td>\n",
       "      <td>Total</td>\n",
       "      <td>4179</td>\n",
       "      <td>2121</td>\n",
       "      <td>2058</td>\n",
       "      <td>4100</td>\n",
       "      <td>79</td>\n",
       "      <td>46</td>\n",
       "      <td>97.12</td>\n",
       "      <td>43.0</td>\n",
       "    </tr>\n",
       "    <tr>\n",
       "      <th>3</th>\n",
       "      <td>AL1  4</td>\n",
       "      <td>Total</td>\n",
       "      <td>9799</td>\n",
       "      <td>4845</td>\n",
       "      <td>4954</td>\n",
       "      <td>9765</td>\n",
       "      <td>34</td>\n",
       "      <td>285</td>\n",
       "      <td>244.75</td>\n",
       "      <td>40.0</td>\n",
       "    </tr>\n",
       "    <tr>\n",
       "      <th>4</th>\n",
       "      <td>AL1  5</td>\n",
       "      <td>Total</td>\n",
       "      <td>10226</td>\n",
       "      <td>5129</td>\n",
       "      <td>5097</td>\n",
       "      <td>10211</td>\n",
       "      <td>15</td>\n",
       "      <td>133</td>\n",
       "      <td>200.93</td>\n",
       "      <td>50.9</td>\n",
       "    </tr>\n",
       "  </tbody>\n",
       "</table>\n",
       "</div>"
      ],
      "text/plain": [
       "  postcode Rural Urban  Variable: All usual residents; measures: Value  \\\n",
       "0   AL1  1       Total                                            5453   \n",
       "1   AL1  2       Total                                            6523   \n",
       "2   AL1  3       Total                                            4179   \n",
       "3   AL1  4       Total                                            9799   \n",
       "4   AL1  5       Total                                           10226   \n",
       "\n",
       "   Variable: Males; measures: Value  Variable: Females; measures: Value  \\\n",
       "0                              2715                                2738   \n",
       "1                              3183                                3340   \n",
       "2                              2121                                2058   \n",
       "3                              4845                                4954   \n",
       "4                              5129                                5097   \n",
       "\n",
       "   Variable: Lives in a household; measures: Value  \\\n",
       "0                                             5408   \n",
       "1                                             6418   \n",
       "2                                             4100   \n",
       "3                                             9765   \n",
       "4                                            10211   \n",
       "\n",
       "   Variable: Lives in a communal establishment; measures: Value  \\\n",
       "0                                                 45              \n",
       "1                                                105              \n",
       "2                                                 79              \n",
       "3                                                 34              \n",
       "4                                                 15              \n",
       "\n",
       "   Variable: Schoolchild or full-time student aged 4 and over at their non term-time address; measures: Value  \\\n",
       "0                                                 75                                                            \n",
       "1                                                 77                                                            \n",
       "2                                                 46                                                            \n",
       "3                                                285                                                            \n",
       "4                                                133                                                            \n",
       "\n",
       "   Variable: Area (Hectares); measures: Value  \\\n",
       "0                                      225.63   \n",
       "1                                      286.59   \n",
       "2                                       97.12   \n",
       "3                                      244.75   \n",
       "4                                      200.93   \n",
       "\n",
       "   Variable: Density (number of persons per hectare); measures: Value  \n",
       "0                                               24.2                   \n",
       "1                                               22.8                   \n",
       "2                                               43.0                   \n",
       "3                                               40.0                   \n",
       "4                                               50.9                   "
      ]
     },
     "execution_count": 10,
     "metadata": {},
     "output_type": "execute_result"
    }
   ],
   "source": [
    "population.head()"
   ]
  },
  {
   "cell_type": "code",
   "execution_count": 11,
   "id": "c2daf42c",
   "metadata": {},
   "outputs": [],
   "source": [
    "population.drop(['Rural Urban','Variable: Females; measures: Value'],axis=1,inplace=True)"
   ]
  },
  {
   "cell_type": "code",
   "execution_count": 12,
   "id": "e0adf952",
   "metadata": {},
   "outputs": [],
   "source": [
    "population.columns=['postcode','residents','males','ll','CE','schoolchild','area','density']\n"
   ]
  },
  {
   "cell_type": "code",
   "execution_count": 13,
   "id": "a7c64758",
   "metadata": {
    "scrolled": true
   },
   "outputs": [
    {
     "data": {
      "text/html": [
       "<div>\n",
       "<style scoped>\n",
       "    .dataframe tbody tr th:only-of-type {\n",
       "        vertical-align: middle;\n",
       "    }\n",
       "\n",
       "    .dataframe tbody tr th {\n",
       "        vertical-align: top;\n",
       "    }\n",
       "\n",
       "    .dataframe thead th {\n",
       "        text-align: right;\n",
       "    }\n",
       "</style>\n",
       "<table border=\"1\" class=\"dataframe\">\n",
       "  <thead>\n",
       "    <tr style=\"text-align: right;\">\n",
       "      <th></th>\n",
       "      <th>postcode</th>\n",
       "      <th>residents</th>\n",
       "      <th>males</th>\n",
       "      <th>ll</th>\n",
       "      <th>CE</th>\n",
       "      <th>schoolchild</th>\n",
       "      <th>area</th>\n",
       "      <th>density</th>\n",
       "    </tr>\n",
       "  </thead>\n",
       "  <tbody>\n",
       "    <tr>\n",
       "      <th>0</th>\n",
       "      <td>AL1  1</td>\n",
       "      <td>5453</td>\n",
       "      <td>0.497891</td>\n",
       "      <td>5408</td>\n",
       "      <td>45</td>\n",
       "      <td>75</td>\n",
       "      <td>225.63</td>\n",
       "      <td>24.2</td>\n",
       "    </tr>\n",
       "    <tr>\n",
       "      <th>1</th>\n",
       "      <td>AL1  2</td>\n",
       "      <td>6523</td>\n",
       "      <td>0.487966</td>\n",
       "      <td>6418</td>\n",
       "      <td>105</td>\n",
       "      <td>77</td>\n",
       "      <td>286.59</td>\n",
       "      <td>22.8</td>\n",
       "    </tr>\n",
       "    <tr>\n",
       "      <th>2</th>\n",
       "      <td>AL1  3</td>\n",
       "      <td>4179</td>\n",
       "      <td>0.507538</td>\n",
       "      <td>4100</td>\n",
       "      <td>79</td>\n",
       "      <td>46</td>\n",
       "      <td>97.12</td>\n",
       "      <td>43.0</td>\n",
       "    </tr>\n",
       "    <tr>\n",
       "      <th>3</th>\n",
       "      <td>AL1  4</td>\n",
       "      <td>9799</td>\n",
       "      <td>0.494438</td>\n",
       "      <td>9765</td>\n",
       "      <td>34</td>\n",
       "      <td>285</td>\n",
       "      <td>244.75</td>\n",
       "      <td>40.0</td>\n",
       "    </tr>\n",
       "    <tr>\n",
       "      <th>4</th>\n",
       "      <td>AL1  5</td>\n",
       "      <td>10226</td>\n",
       "      <td>0.501565</td>\n",
       "      <td>10211</td>\n",
       "      <td>15</td>\n",
       "      <td>133</td>\n",
       "      <td>200.93</td>\n",
       "      <td>50.9</td>\n",
       "    </tr>\n",
       "  </tbody>\n",
       "</table>\n",
       "</div>"
      ],
      "text/plain": [
       "  postcode  residents     males     ll   CE  schoolchild    area  density\n",
       "0   AL1  1       5453  0.497891   5408   45           75  225.63     24.2\n",
       "1   AL1  2       6523  0.487966   6418  105           77  286.59     22.8\n",
       "2   AL1  3       4179  0.507538   4100   79           46   97.12     43.0\n",
       "3   AL1  4       9799  0.494438   9765   34          285  244.75     40.0\n",
       "4   AL1  5      10226  0.501565  10211   15          133  200.93     50.9"
      ]
     },
     "execution_count": 13,
     "metadata": {},
     "output_type": "execute_result"
    }
   ],
   "source": [
    "population.males=population.males/population.residents\n",
    "population.head()"
   ]
  },
  {
   "cell_type": "code",
   "execution_count": 15,
   "id": "169c0782",
   "metadata": {
    "scrolled": true
   },
   "outputs": [
    {
     "data": {
      "text/html": [
       "<div>\n",
       "<style scoped>\n",
       "    .dataframe tbody tr th:only-of-type {\n",
       "        vertical-align: middle;\n",
       "    }\n",
       "\n",
       "    .dataframe tbody tr th {\n",
       "        vertical-align: top;\n",
       "    }\n",
       "\n",
       "    .dataframe thead th {\n",
       "        text-align: right;\n",
       "    }\n",
       "</style>\n",
       "<table border=\"1\" class=\"dataframe\">\n",
       "  <thead>\n",
       "    <tr style=\"text-align: right;\">\n",
       "      <th></th>\n",
       "      <th>WKT</th>\n",
       "      <th>roadClassi</th>\n",
       "      <th>roadFuncti</th>\n",
       "      <th>formOfWay</th>\n",
       "      <th>length</th>\n",
       "      <th>primaryRou</th>\n",
       "      <th>distance to the nearest point on rd</th>\n",
       "      <th>postcode</th>\n",
       "      <th>lat</th>\n",
       "      <th>log</th>\n",
       "    </tr>\n",
       "  </thead>\n",
       "  <tbody>\n",
       "    <tr>\n",
       "      <th>0</th>\n",
       "      <td>-2.3501 56.603923</td>\n",
       "      <td>A Road</td>\n",
       "      <td>A Road</td>\n",
       "      <td>Single Carriageway</td>\n",
       "      <td>2643.0</td>\n",
       "      <td>1.0</td>\n",
       "      <td>1.256769</td>\n",
       "      <td>AB1</td>\n",
       "      <td>-2.350100</td>\n",
       "      <td>56.603923</td>\n",
       "    </tr>\n",
       "    <tr>\n",
       "      <th>1</th>\n",
       "      <td>-2.021334 57.130142</td>\n",
       "      <td>A Road</td>\n",
       "      <td>A Road</td>\n",
       "      <td>Single Carriageway</td>\n",
       "      <td>2643.0</td>\n",
       "      <td>1.0</td>\n",
       "      <td>1.834101</td>\n",
       "      <td>AB1 9NN</td>\n",
       "      <td>-2.021334</td>\n",
       "      <td>57.130142</td>\n",
       "    </tr>\n",
       "    <tr>\n",
       "      <th>2</th>\n",
       "      <td>-2.108598 57.146338</td>\n",
       "      <td>A Road</td>\n",
       "      <td>A Road</td>\n",
       "      <td>Single Carriageway</td>\n",
       "      <td>2643.0</td>\n",
       "      <td>1.0</td>\n",
       "      <td>1.830243</td>\n",
       "      <td>AB10 1UH</td>\n",
       "      <td>-2.108598</td>\n",
       "      <td>57.146338</td>\n",
       "    </tr>\n",
       "    <tr>\n",
       "      <th>3</th>\n",
       "      <td>-2.093928 57.148218</td>\n",
       "      <td>A Road</td>\n",
       "      <td>A Road</td>\n",
       "      <td>Single Carriageway</td>\n",
       "      <td>2643.0</td>\n",
       "      <td>1.0</td>\n",
       "      <td>1.835092</td>\n",
       "      <td>AB10 1YL</td>\n",
       "      <td>-2.093928</td>\n",
       "      <td>57.148218</td>\n",
       "    </tr>\n",
       "    <tr>\n",
       "      <th>4</th>\n",
       "      <td>-2.116089 57.131671</td>\n",
       "      <td>A Road</td>\n",
       "      <td>A Road</td>\n",
       "      <td>Single Carriageway</td>\n",
       "      <td>2643.0</td>\n",
       "      <td>1.0</td>\n",
       "      <td>1.814373</td>\n",
       "      <td>AB10 6AT</td>\n",
       "      <td>-2.116089</td>\n",
       "      <td>57.131671</td>\n",
       "    </tr>\n",
       "  </tbody>\n",
       "</table>\n",
       "</div>"
      ],
      "text/plain": [
       "                   WKT roadClassi roadFuncti           formOfWay  length  \\\n",
       "0    -2.3501 56.603923     A Road     A Road  Single Carriageway  2643.0   \n",
       "1  -2.021334 57.130142     A Road     A Road  Single Carriageway  2643.0   \n",
       "2  -2.108598 57.146338     A Road     A Road  Single Carriageway  2643.0   \n",
       "3  -2.093928 57.148218     A Road     A Road  Single Carriageway  2643.0   \n",
       "4  -2.116089 57.131671     A Road     A Road  Single Carriageway  2643.0   \n",
       "\n",
       "   primaryRou  distance to the nearest point on rd  postcode       lat  \\\n",
       "0         1.0                             1.256769      AB1  -2.350100   \n",
       "1         1.0                             1.834101   AB1 9NN -2.021334   \n",
       "2         1.0                             1.830243  AB10 1UH -2.108598   \n",
       "3         1.0                             1.835092  AB10 1YL -2.093928   \n",
       "4         1.0                             1.814373  AB10 6AT -2.116089   \n",
       "\n",
       "         log  \n",
       "0  56.603923  \n",
       "1  57.130142  \n",
       "2  57.146338  \n",
       "3  57.148218  \n",
       "4  57.131671  "
      ]
     },
     "execution_count": 15,
     "metadata": {},
     "output_type": "execute_result"
    }
   ],
   "source": [
    "roads_network.head()"
   ]
  },
  {
   "cell_type": "code",
   "execution_count": 14,
   "id": "778e8272",
   "metadata": {},
   "outputs": [],
   "source": [
    "roads_network.WKT=roads_network['WKT'].apply(lambda x:x.split('(')[1].split(')')[0])\n",
    "roads_network['lat']=roads_network['WKT'].apply(lambda x:float(x.split(' ')[0]))\n",
    "roads_network['log']=roads_network['WKT'].apply(lambda x:float(x.split(' ')[1]))"
   ]
  },
  {
   "cell_type": "code",
   "execution_count": 20,
   "id": "e9eea97e",
   "metadata": {},
   "outputs": [
    {
     "data": {
      "text/html": [
       "<div>\n",
       "<style scoped>\n",
       "    .dataframe tbody tr th:only-of-type {\n",
       "        vertical-align: middle;\n",
       "    }\n",
       "\n",
       "    .dataframe tbody tr th {\n",
       "        vertical-align: top;\n",
       "    }\n",
       "\n",
       "    .dataframe thead th {\n",
       "        text-align: right;\n",
       "    }\n",
       "</style>\n",
       "<table border=\"1\" class=\"dataframe\">\n",
       "  <thead>\n",
       "    <tr style=\"text-align: right;\">\n",
       "      <th></th>\n",
       "      <th>lat</th>\n",
       "      <th>log</th>\n",
       "      <th>postcode</th>\n",
       "    </tr>\n",
       "  </thead>\n",
       "  <tbody>\n",
       "    <tr>\n",
       "      <th>0</th>\n",
       "      <td>-2.350100</td>\n",
       "      <td>56.603923</td>\n",
       "      <td>AB1</td>\n",
       "    </tr>\n",
       "    <tr>\n",
       "      <th>1</th>\n",
       "      <td>-2.021334</td>\n",
       "      <td>57.130142</td>\n",
       "      <td>AB1 9NN</td>\n",
       "    </tr>\n",
       "    <tr>\n",
       "      <th>2</th>\n",
       "      <td>-2.108598</td>\n",
       "      <td>57.146338</td>\n",
       "      <td>AB10 1UH</td>\n",
       "    </tr>\n",
       "    <tr>\n",
       "      <th>3</th>\n",
       "      <td>-2.093928</td>\n",
       "      <td>57.148218</td>\n",
       "      <td>AB10 1YL</td>\n",
       "    </tr>\n",
       "    <tr>\n",
       "      <th>4</th>\n",
       "      <td>-2.116089</td>\n",
       "      <td>57.131671</td>\n",
       "      <td>AB10 6AT</td>\n",
       "    </tr>\n",
       "  </tbody>\n",
       "</table>\n",
       "</div>"
      ],
      "text/plain": [
       "        lat        log  postcode\n",
       "0 -2.350100  56.603923      AB1 \n",
       "1 -2.021334  57.130142   AB1 9NN\n",
       "2 -2.108598  57.146338  AB10 1UH\n",
       "3 -2.093928  57.148218  AB10 1YL\n",
       "4 -2.116089  57.131671  AB10 6AT"
      ]
     },
     "execution_count": 20,
     "metadata": {},
     "output_type": "execute_result"
    }
   ],
   "source": [
    "rn=roads_network[['lat','log','postcode']]\n",
    "rn.head()"
   ]
  },
  {
   "cell_type": "markdown",
   "id": "45bd71f8",
   "metadata": {},
   "source": [
    "# EDA"
   ]
  },
  {
   "cell_type": "markdown",
   "id": "f5448d42",
   "metadata": {},
   "source": [
    "# Accident_Risk_Index (mean casualties at a postcode) = sum(Number_of_casualities)/count(Accident_ID)"
   ]
  },
  {
   "cell_type": "code",
   "execution_count": 21,
   "id": "15897a4b",
   "metadata": {},
   "outputs": [],
   "source": [
    "sum_casualties = train.groupby([train['postcode']])['Number_of_Casualties'].sum()\n",
    "count_acc = train.groupby([train['postcode']])['Accident_ID'].count()\n",
    "\n",
    "Accident_Risk_Index = sum_casualties / count_acc\n",
    "df  = pd.merge(train, Accident_Risk_Index.reset_index(name='Accident_Risk_Index'), how='left', on=['postcode'])"
   ]
  },
  {
   "cell_type": "code",
   "execution_count": 22,
   "id": "5cea966a",
   "metadata": {},
   "outputs": [
    {
     "data": {
      "text/html": [
       "<div>\n",
       "<style scoped>\n",
       "    .dataframe tbody tr th:only-of-type {\n",
       "        vertical-align: middle;\n",
       "    }\n",
       "\n",
       "    .dataframe tbody tr th {\n",
       "        vertical-align: top;\n",
       "    }\n",
       "\n",
       "    .dataframe thead th {\n",
       "        text-align: right;\n",
       "    }\n",
       "</style>\n",
       "<table border=\"1\" class=\"dataframe\">\n",
       "  <thead>\n",
       "    <tr style=\"text-align: right;\">\n",
       "      <th></th>\n",
       "      <th>Accident_ID</th>\n",
       "      <th>Police_Force</th>\n",
       "      <th>Number_of_Vehicles</th>\n",
       "      <th>Number_of_Casualties</th>\n",
       "      <th>Date</th>\n",
       "      <th>Day_of_Week</th>\n",
       "      <th>Time</th>\n",
       "      <th>Local_Authority_(District)</th>\n",
       "      <th>Local_Authority_(Highway)</th>\n",
       "      <th>1st_Road_Class</th>\n",
       "      <th>...</th>\n",
       "      <th>Weather_Conditions</th>\n",
       "      <th>Road_Surface_Conditions</th>\n",
       "      <th>Special_Conditions_at_Site</th>\n",
       "      <th>Carriageway_Hazards</th>\n",
       "      <th>Urban_or_Rural_Area</th>\n",
       "      <th>Did_Police_Officer_Attend_Scene_of_Accident</th>\n",
       "      <th>state</th>\n",
       "      <th>postcode</th>\n",
       "      <th>country</th>\n",
       "      <th>Accident_Risk_Index</th>\n",
       "    </tr>\n",
       "  </thead>\n",
       "  <tbody>\n",
       "    <tr>\n",
       "      <th>0</th>\n",
       "      <td>1</td>\n",
       "      <td>34</td>\n",
       "      <td>2</td>\n",
       "      <td>1</td>\n",
       "      <td>19/12/12</td>\n",
       "      <td>7</td>\n",
       "      <td>13:20</td>\n",
       "      <td>344</td>\n",
       "      <td>E10000032</td>\n",
       "      <td>4</td>\n",
       "      <td>...</td>\n",
       "      <td>Fine without high winds</td>\n",
       "      <td>Dry</td>\n",
       "      <td>Ol or diesel</td>\n",
       "      <td>None</td>\n",
       "      <td>1</td>\n",
       "      <td>Yes</td>\n",
       "      <td>England</td>\n",
       "      <td>OX3 9UP</td>\n",
       "      <td>United Kingdom</td>\n",
       "      <td>1.833333</td>\n",
       "    </tr>\n",
       "    <tr>\n",
       "      <th>1</th>\n",
       "      <td>2</td>\n",
       "      <td>5</td>\n",
       "      <td>2</td>\n",
       "      <td>1</td>\n",
       "      <td>02/11/12</td>\n",
       "      <td>4</td>\n",
       "      <td>7:53</td>\n",
       "      <td>102</td>\n",
       "      <td>E09000026</td>\n",
       "      <td>3</td>\n",
       "      <td>...</td>\n",
       "      <td>Raining without high winds</td>\n",
       "      <td>Dry</td>\n",
       "      <td>None</td>\n",
       "      <td>None</td>\n",
       "      <td>1</td>\n",
       "      <td>No</td>\n",
       "      <td>England</td>\n",
       "      <td>S35 4EZ</td>\n",
       "      <td>United Kingdom</td>\n",
       "      <td>1.333333</td>\n",
       "    </tr>\n",
       "    <tr>\n",
       "      <th>2</th>\n",
       "      <td>3</td>\n",
       "      <td>1</td>\n",
       "      <td>2</td>\n",
       "      <td>1</td>\n",
       "      <td>02/11/12</td>\n",
       "      <td>4</td>\n",
       "      <td>16:00</td>\n",
       "      <td>531</td>\n",
       "      <td>E10000016</td>\n",
       "      <td>6</td>\n",
       "      <td>...</td>\n",
       "      <td>Fine without high winds</td>\n",
       "      <td>Dry</td>\n",
       "      <td>None</td>\n",
       "      <td>None</td>\n",
       "      <td>1</td>\n",
       "      <td>No</td>\n",
       "      <td>England</td>\n",
       "      <td>BN21 2XR</td>\n",
       "      <td>United Kingdom</td>\n",
       "      <td>1.333333</td>\n",
       "    </tr>\n",
       "    <tr>\n",
       "      <th>3</th>\n",
       "      <td>4</td>\n",
       "      <td>1</td>\n",
       "      <td>1</td>\n",
       "      <td>1</td>\n",
       "      <td>06/05/12</td>\n",
       "      <td>1</td>\n",
       "      <td>16:50</td>\n",
       "      <td>7</td>\n",
       "      <td>E08000035</td>\n",
       "      <td>6</td>\n",
       "      <td>...</td>\n",
       "      <td>Fine without high winds</td>\n",
       "      <td>Dry</td>\n",
       "      <td>Roadworks</td>\n",
       "      <td>None</td>\n",
       "      <td>1</td>\n",
       "      <td>Yes</td>\n",
       "      <td>England</td>\n",
       "      <td>TA20 3PT</td>\n",
       "      <td>United Kingdom</td>\n",
       "      <td>1.666667</td>\n",
       "    </tr>\n",
       "    <tr>\n",
       "      <th>4</th>\n",
       "      <td>5</td>\n",
       "      <td>46</td>\n",
       "      <td>1</td>\n",
       "      <td>1</td>\n",
       "      <td>30/06/12</td>\n",
       "      <td>3</td>\n",
       "      <td>13:25</td>\n",
       "      <td>519</td>\n",
       "      <td>E10000031</td>\n",
       "      <td>3</td>\n",
       "      <td>...</td>\n",
       "      <td>Fine without high winds</td>\n",
       "      <td>Dry</td>\n",
       "      <td>None</td>\n",
       "      <td>None</td>\n",
       "      <td>1</td>\n",
       "      <td>No</td>\n",
       "      <td>England</td>\n",
       "      <td>DN20 0QF</td>\n",
       "      <td>United Kingdom</td>\n",
       "      <td>1.500000</td>\n",
       "    </tr>\n",
       "  </tbody>\n",
       "</table>\n",
       "<p>5 rows × 28 columns</p>\n",
       "</div>"
      ],
      "text/plain": [
       "   Accident_ID  Police_Force  Number_of_Vehicles  Number_of_Casualties  \\\n",
       "0            1            34                   2                     1   \n",
       "1            2             5                   2                     1   \n",
       "2            3             1                   2                     1   \n",
       "3            4             1                   1                     1   \n",
       "4            5            46                   1                     1   \n",
       "\n",
       "       Date  Day_of_Week   Time  Local_Authority_(District)  \\\n",
       "0  19/12/12            7  13:20                         344   \n",
       "1  02/11/12            4   7:53                         102   \n",
       "2  02/11/12            4  16:00                         531   \n",
       "3  06/05/12            1  16:50                           7   \n",
       "4  30/06/12            3  13:25                         519   \n",
       "\n",
       "  Local_Authority_(Highway)  1st_Road_Class  ...          Weather_Conditions  \\\n",
       "0                 E10000032               4  ...     Fine without high winds   \n",
       "1                 E09000026               3  ...  Raining without high winds   \n",
       "2                 E10000016               6  ...     Fine without high winds   \n",
       "3                 E08000035               6  ...     Fine without high winds   \n",
       "4                 E10000031               3  ...     Fine without high winds   \n",
       "\n",
       "  Road_Surface_Conditions  Special_Conditions_at_Site  Carriageway_Hazards  \\\n",
       "0                     Dry                Ol or diesel                 None   \n",
       "1                     Dry                        None                 None   \n",
       "2                     Dry                        None                 None   \n",
       "3                     Dry                   Roadworks                 None   \n",
       "4                     Dry                        None                 None   \n",
       "\n",
       "   Urban_or_Rural_Area Did_Police_Officer_Attend_Scene_of_Accident    state  \\\n",
       "0                    1                                         Yes  England   \n",
       "1                    1                                          No  England   \n",
       "2                    1                                          No  England   \n",
       "3                    1                                         Yes  England   \n",
       "4                    1                                          No  England   \n",
       "\n",
       "   postcode         country Accident_Risk_Index  \n",
       "0   OX3 9UP  United Kingdom            1.833333  \n",
       "1   S35 4EZ  United Kingdom            1.333333  \n",
       "2  BN21 2XR  United Kingdom            1.333333  \n",
       "3  TA20 3PT  United Kingdom            1.666667  \n",
       "4  DN20 0QF  United Kingdom            1.500000  \n",
       "\n",
       "[5 rows x 28 columns]"
      ]
     },
     "execution_count": 22,
     "metadata": {},
     "output_type": "execute_result"
    }
   ],
   "source": [
    "df.head()"
   ]
  },
  {
   "cell_type": "markdown",
   "id": "6bf91092",
   "metadata": {},
   "source": [
    "# Concating train and test data into single Dataframe for preprocessing¶"
   ]
  },
  {
   "cell_type": "code",
   "execution_count": 23,
   "id": "65bc9dee",
   "metadata": {},
   "outputs": [],
   "source": [
    "df['train_or_test']='train'\n",
    "test['train_or_test']='test'\n",
    "df1=pd.concat([df,test])"
   ]
  },
  {
   "cell_type": "markdown",
   "id": "90855173",
   "metadata": {},
   "source": [
    "# Missing value Imputation"
   ]
  },
  {
   "cell_type": "code",
   "execution_count": 24,
   "id": "761ba0d6",
   "metadata": {},
   "outputs": [],
   "source": [
    "df1['Time'].fillna(df1['Time'].mode().values[0],inplace=True)\n",
    "df1['Road_Surface_Conditions'].fillna(df1['Road_Surface_Conditions'].mode().values[0],inplace=True)\n",
    "df1['Special_Conditions_at_Site'].fillna(df1['Special_Conditions_at_Site'].mode().values[0],inplace=True)"
   ]
  },
  {
   "cell_type": "code",
   "execution_count": 25,
   "id": "b25cb8f1",
   "metadata": {},
   "outputs": [],
   "source": [
    "cols_dropped = ['country','Local_Authority_(Highway)','Local_Authority_(District)','Accident_ID','1st_Road_Number',\n",
    "                'Number_of_Casualties','2nd_Road_Number']"
   ]
  },
  {
   "cell_type": "code",
   "execution_count": 26,
   "id": "d9819a64",
   "metadata": {},
   "outputs": [],
   "source": [
    "df1.drop(cols_dropped,axis=1,inplace=True)"
   ]
  },
  {
   "cell_type": "code",
   "execution_count": 27,
   "id": "7b180515",
   "metadata": {},
   "outputs": [],
   "source": [
    "df1['Time']=pd.to_datetime(df1['Time'], format='%H:%M').dt.hour"
   ]
  },
  {
   "cell_type": "code",
   "execution_count": 28,
   "id": "32d1cdd1",
   "metadata": {},
   "outputs": [],
   "source": [
    "df1['Year'] = pd.to_datetime(df1['Date']).dt.year\n",
    "df1['Month'] = pd.to_datetime(df1['Date']).dt.month\n",
    "df1['Day'] = pd.to_datetime(df1['Date']).dt.day\n",
    "df1['weekend']=df1['Day_of_Week'].apply(lambda x: 0 if x<6 else 1)"
   ]
  },
  {
   "cell_type": "code",
   "execution_count": 29,
   "id": "ce3a1979",
   "metadata": {},
   "outputs": [],
   "source": [
    "def time_of_day(time):\n",
    "    hour = int(time)\n",
    "    if hour<=6:\n",
    "        return 0\n",
    "    elif hour<=9:\n",
    "        return 1\n",
    "    elif hour<=5:\n",
    "        return 2\n",
    "    elif hour<21:\n",
    "        return 3\n",
    "    else:\n",
    "        return 4"
   ]
  },
  {
   "cell_type": "code",
   "execution_count": 30,
   "id": "8bd92d95",
   "metadata": {},
   "outputs": [],
   "source": [
    "df1['Time']=df1['Time'].apply(time_of_day)"
   ]
  },
  {
   "cell_type": "code",
   "execution_count": 40,
   "id": "bb07048f",
   "metadata": {},
   "outputs": [],
   "source": [
    "def county_code(postcode):\n",
    "    postcode=postcode.split(' ')[0]\n",
    "    only_alpha=''\n",
    "    for char in postcode:\n",
    "        if ord(char)>=65 and ord(char)<=90:\n",
    "            only_alpha+=char\n",
    "        elif ord(char)>=97 and ord(char)<=122:\n",
    "            only_alpha+=char\n",
    "    return only_alpha.upper()"
   ]
  },
  {
   "cell_type": "raw",
   "id": "435a969b",
   "metadata": {},
   "source": [
    "df1['postcode_merge']=df1['postcode'].apply(lambda x : x[0:-2])\n",
    "population.rename(columns={'postcode':'postcode_merge'},inplace=True)"
   ]
  },
  {
   "cell_type": "code",
   "execution_count": 31,
   "id": "d40d3fc3",
   "metadata": {},
   "outputs": [
    {
     "data": {
      "text/html": [
       "<div>\n",
       "<style scoped>\n",
       "    .dataframe tbody tr th:only-of-type {\n",
       "        vertical-align: middle;\n",
       "    }\n",
       "\n",
       "    .dataframe tbody tr th {\n",
       "        vertical-align: top;\n",
       "    }\n",
       "\n",
       "    .dataframe thead th {\n",
       "        text-align: right;\n",
       "    }\n",
       "</style>\n",
       "<table border=\"1\" class=\"dataframe\">\n",
       "  <thead>\n",
       "    <tr style=\"text-align: right;\">\n",
       "      <th></th>\n",
       "      <th>Police_Force</th>\n",
       "      <th>Number_of_Vehicles</th>\n",
       "      <th>Date</th>\n",
       "      <th>Day_of_Week</th>\n",
       "      <th>Time</th>\n",
       "      <th>1st_Road_Class</th>\n",
       "      <th>Road_Type</th>\n",
       "      <th>Speed_limit</th>\n",
       "      <th>2nd_Road_Class</th>\n",
       "      <th>Pedestrian_Crossing-Human_Control</th>\n",
       "      <th>...</th>\n",
       "      <th>Urban_or_Rural_Area</th>\n",
       "      <th>Did_Police_Officer_Attend_Scene_of_Accident</th>\n",
       "      <th>state</th>\n",
       "      <th>postcode</th>\n",
       "      <th>Accident_Risk_Index</th>\n",
       "      <th>train_or_test</th>\n",
       "      <th>Year</th>\n",
       "      <th>Month</th>\n",
       "      <th>Day</th>\n",
       "      <th>weekend</th>\n",
       "    </tr>\n",
       "  </thead>\n",
       "  <tbody>\n",
       "    <tr>\n",
       "      <th>0</th>\n",
       "      <td>34</td>\n",
       "      <td>2</td>\n",
       "      <td>19/12/12</td>\n",
       "      <td>7</td>\n",
       "      <td>3</td>\n",
       "      <td>4</td>\n",
       "      <td>Single carriageway</td>\n",
       "      <td>30</td>\n",
       "      <td>-1</td>\n",
       "      <td>None within 50 metres</td>\n",
       "      <td>...</td>\n",
       "      <td>1</td>\n",
       "      <td>Yes</td>\n",
       "      <td>England</td>\n",
       "      <td>OX3 9UP</td>\n",
       "      <td>1.833333</td>\n",
       "      <td>train</td>\n",
       "      <td>2012</td>\n",
       "      <td>12</td>\n",
       "      <td>19</td>\n",
       "      <td>1</td>\n",
       "    </tr>\n",
       "    <tr>\n",
       "      <th>1</th>\n",
       "      <td>5</td>\n",
       "      <td>2</td>\n",
       "      <td>02/11/12</td>\n",
       "      <td>4</td>\n",
       "      <td>1</td>\n",
       "      <td>3</td>\n",
       "      <td>One way street</td>\n",
       "      <td>30</td>\n",
       "      <td>-1</td>\n",
       "      <td>None within 50 metres</td>\n",
       "      <td>...</td>\n",
       "      <td>1</td>\n",
       "      <td>No</td>\n",
       "      <td>England</td>\n",
       "      <td>S35 4EZ</td>\n",
       "      <td>1.333333</td>\n",
       "      <td>train</td>\n",
       "      <td>2012</td>\n",
       "      <td>2</td>\n",
       "      <td>11</td>\n",
       "      <td>0</td>\n",
       "    </tr>\n",
       "  </tbody>\n",
       "</table>\n",
       "<p>2 rows × 26 columns</p>\n",
       "</div>"
      ],
      "text/plain": [
       "   Police_Force  Number_of_Vehicles      Date  Day_of_Week  Time  \\\n",
       "0            34                   2  19/12/12            7     3   \n",
       "1             5                   2  02/11/12            4     1   \n",
       "\n",
       "   1st_Road_Class           Road_Type  Speed_limit  2nd_Road_Class  \\\n",
       "0               4  Single carriageway           30              -1   \n",
       "1               3      One way street           30              -1   \n",
       "\n",
       "  Pedestrian_Crossing-Human_Control  ... Urban_or_Rural_Area  \\\n",
       "0             None within 50 metres  ...                   1   \n",
       "1             None within 50 metres  ...                   1   \n",
       "\n",
       "  Did_Police_Officer_Attend_Scene_of_Accident    state postcode  \\\n",
       "0                                         Yes  England  OX3 9UP   \n",
       "1                                          No  England  S35 4EZ   \n",
       "\n",
       "  Accident_Risk_Index train_or_test  Year Month Day weekend  \n",
       "0            1.833333         train  2012    12  19       1  \n",
       "1            1.333333         train  2012     2  11       0  \n",
       "\n",
       "[2 rows x 26 columns]"
      ]
     },
     "execution_count": 31,
     "metadata": {},
     "output_type": "execute_result"
    }
   ],
   "source": [
    "df1.head(2)"
   ]
  },
  {
   "cell_type": "code",
   "execution_count": 32,
   "id": "a0eeab3f",
   "metadata": {},
   "outputs": [
    {
     "name": "stderr",
     "output_type": "stream",
     "text": [
      "C:\\Users\\91844\\AppData\\Local\\Temp/ipykernel_29388/394084880.py:1: SettingWithCopyWarning: \n",
      "A value is trying to be set on a copy of a slice from a DataFrame.\n",
      "Try using .loc[row_indexer,col_indexer] = value instead\n",
      "\n",
      "See the caveats in the documentation: https://pandas.pydata.org/pandas-docs/stable/user_guide/indexing.html#returning-a-view-versus-a-copy\n",
      "  rn['postcode']=rn['postcode'].apply(lambda x : x[0:-2])\n",
      "C:\\Users\\91844\\AppData\\Local\\Temp/ipykernel_29388/394084880.py:2: SettingWithCopyWarning: \n",
      "A value is trying to be set on a copy of a slice from a DataFrame.\n",
      "Try using .loc[row_indexer,col_indexer] = value instead\n",
      "\n",
      "See the caveats in the documentation: https://pandas.pydata.org/pandas-docs/stable/user_guide/indexing.html#returning-a-view-versus-a-copy\n",
      "  rn['postcode']=rn['postcode'].apply(lambda x : x.upper())\n",
      "C:\\Users\\91844\\AppData\\Local\\Programs\\Python\\Python39\\lib\\site-packages\\pandas\\core\\frame.py:5039: SettingWithCopyWarning: \n",
      "A value is trying to be set on a copy of a slice from a DataFrame\n",
      "\n",
      "See the caveats in the documentation: https://pandas.pydata.org/pandas-docs/stable/user_guide/indexing.html#returning-a-view-versus-a-copy\n",
      "  return super().rename(\n"
     ]
    }
   ],
   "source": [
    "rn['postcode']=rn['postcode'].apply(lambda x : x[0:-2])\n",
    "rn['postcode']=rn['postcode'].apply(lambda x : x.upper())\n",
    "rn.rename(columns={'postcode':'postcode_merge'},inplace=True)"
   ]
  },
  {
   "cell_type": "code",
   "execution_count": 34,
   "id": "e0b4f504",
   "metadata": {},
   "outputs": [
    {
     "data": {
      "text/html": [
       "<div>\n",
       "<style scoped>\n",
       "    .dataframe tbody tr th:only-of-type {\n",
       "        vertical-align: middle;\n",
       "    }\n",
       "\n",
       "    .dataframe tbody tr th {\n",
       "        vertical-align: top;\n",
       "    }\n",
       "\n",
       "    .dataframe thead th {\n",
       "        text-align: right;\n",
       "    }\n",
       "</style>\n",
       "<table border=\"1\" class=\"dataframe\">\n",
       "  <thead>\n",
       "    <tr style=\"text-align: right;\">\n",
       "      <th></th>\n",
       "      <th>postcode_merge</th>\n",
       "      <th>lat</th>\n",
       "      <th>log</th>\n",
       "    </tr>\n",
       "  </thead>\n",
       "  <tbody>\n",
       "    <tr>\n",
       "      <th>0</th>\n",
       "      <td>AB</td>\n",
       "      <td>-2.704352</td>\n",
       "      <td>56.901920</td>\n",
       "    </tr>\n",
       "    <tr>\n",
       "      <th>1</th>\n",
       "      <td>AB1</td>\n",
       "      <td>-2.070907</td>\n",
       "      <td>56.809341</td>\n",
       "    </tr>\n",
       "    <tr>\n",
       "      <th>2</th>\n",
       "      <td>AB1 9</td>\n",
       "      <td>-2.021334</td>\n",
       "      <td>57.130142</td>\n",
       "    </tr>\n",
       "    <tr>\n",
       "      <th>3</th>\n",
       "      <td>AB10 1</td>\n",
       "      <td>-2.101263</td>\n",
       "      <td>57.147278</td>\n",
       "    </tr>\n",
       "    <tr>\n",
       "      <th>4</th>\n",
       "      <td>AB10 6</td>\n",
       "      <td>-2.118697</td>\n",
       "      <td>57.135466</td>\n",
       "    </tr>\n",
       "    <tr>\n",
       "      <th>...</th>\n",
       "      <td>...</td>\n",
       "      <td>...</td>\n",
       "      <td>...</td>\n",
       "    </tr>\n",
       "    <tr>\n",
       "      <th>10724</th>\n",
       "      <td>YO8 9</td>\n",
       "      <td>-1.107228</td>\n",
       "      <td>53.772852</td>\n",
       "    </tr>\n",
       "    <tr>\n",
       "      <th>10725</th>\n",
       "      <td>YO89 9</td>\n",
       "      <td>-1.075875</td>\n",
       "      <td>53.786824</td>\n",
       "    </tr>\n",
       "    <tr>\n",
       "      <th>10726</th>\n",
       "      <td>YO91 1</td>\n",
       "      <td>-1.079029</td>\n",
       "      <td>53.975455</td>\n",
       "    </tr>\n",
       "    <tr>\n",
       "      <th>10727</th>\n",
       "      <td>YS2</td>\n",
       "      <td>-0.557006</td>\n",
       "      <td>54.456617</td>\n",
       "    </tr>\n",
       "    <tr>\n",
       "      <th>10728</th>\n",
       "      <td>ZE3 9</td>\n",
       "      <td>-1.421450</td>\n",
       "      <td>53.450306</td>\n",
       "    </tr>\n",
       "  </tbody>\n",
       "</table>\n",
       "<p>10729 rows × 3 columns</p>\n",
       "</div>"
      ],
      "text/plain": [
       "      postcode_merge       lat        log\n",
       "0                 AB -2.704352  56.901920\n",
       "1                AB1 -2.070907  56.809341\n",
       "2              AB1 9 -2.021334  57.130142\n",
       "3             AB10 1 -2.101263  57.147278\n",
       "4             AB10 6 -2.118697  57.135466\n",
       "...              ...       ...        ...\n",
       "10724          YO8 9 -1.107228  53.772852\n",
       "10725         YO89 9 -1.075875  53.786824\n",
       "10726         YO91 1 -1.079029  53.975455\n",
       "10727            YS2 -0.557006  54.456617\n",
       "10728          ZE3 9 -1.421450  53.450306\n",
       "\n",
       "[10729 rows x 3 columns]"
      ]
     },
     "execution_count": 34,
     "metadata": {},
     "output_type": "execute_result"
    }
   ],
   "source": [
    "rn=rn.groupby('postcode_merge',as_index=False).agg({'lat' : 'mean','log' : 'mean'})\n",
    "rn"
   ]
  },
  {
   "cell_type": "code",
   "execution_count": 36,
   "id": "8bf98f19",
   "metadata": {
    "scrolled": true
   },
   "outputs": [
    {
     "data": {
      "text/html": [
       "<div>\n",
       "<style scoped>\n",
       "    .dataframe tbody tr th:only-of-type {\n",
       "        vertical-align: middle;\n",
       "    }\n",
       "\n",
       "    .dataframe tbody tr th {\n",
       "        vertical-align: top;\n",
       "    }\n",
       "\n",
       "    .dataframe thead th {\n",
       "        text-align: right;\n",
       "    }\n",
       "</style>\n",
       "<table border=\"1\" class=\"dataframe\">\n",
       "  <thead>\n",
       "    <tr style=\"text-align: right;\">\n",
       "      <th></th>\n",
       "      <th>Police_Force</th>\n",
       "      <th>Number_of_Vehicles</th>\n",
       "      <th>Date</th>\n",
       "      <th>Day_of_Week</th>\n",
       "      <th>Time</th>\n",
       "      <th>1st_Road_Class</th>\n",
       "      <th>Road_Type</th>\n",
       "      <th>Speed_limit</th>\n",
       "      <th>2nd_Road_Class</th>\n",
       "      <th>Pedestrian_Crossing-Human_Control</th>\n",
       "      <th>...</th>\n",
       "      <th>postcode</th>\n",
       "      <th>Accident_Risk_Index</th>\n",
       "      <th>train_or_test</th>\n",
       "      <th>Year</th>\n",
       "      <th>Month</th>\n",
       "      <th>Day</th>\n",
       "      <th>weekend</th>\n",
       "      <th>postcode_merge</th>\n",
       "      <th>lat</th>\n",
       "      <th>log</th>\n",
       "    </tr>\n",
       "  </thead>\n",
       "  <tbody>\n",
       "    <tr>\n",
       "      <th>0</th>\n",
       "      <td>34</td>\n",
       "      <td>2</td>\n",
       "      <td>19/12/12</td>\n",
       "      <td>7</td>\n",
       "      <td>3</td>\n",
       "      <td>4</td>\n",
       "      <td>Single carriageway</td>\n",
       "      <td>30</td>\n",
       "      <td>-1</td>\n",
       "      <td>None within 50 metres</td>\n",
       "      <td>...</td>\n",
       "      <td>OX3 9UP</td>\n",
       "      <td>1.833333</td>\n",
       "      <td>train</td>\n",
       "      <td>2012</td>\n",
       "      <td>12</td>\n",
       "      <td>19</td>\n",
       "      <td>1</td>\n",
       "      <td>OX3 9</td>\n",
       "      <td>-1.235937</td>\n",
       "      <td>51.757932</td>\n",
       "    </tr>\n",
       "    <tr>\n",
       "      <th>1</th>\n",
       "      <td>5</td>\n",
       "      <td>2</td>\n",
       "      <td>02/11/12</td>\n",
       "      <td>4</td>\n",
       "      <td>1</td>\n",
       "      <td>3</td>\n",
       "      <td>One way street</td>\n",
       "      <td>30</td>\n",
       "      <td>-1</td>\n",
       "      <td>None within 50 metres</td>\n",
       "      <td>...</td>\n",
       "      <td>S35 4EZ</td>\n",
       "      <td>1.333333</td>\n",
       "      <td>train</td>\n",
       "      <td>2012</td>\n",
       "      <td>2</td>\n",
       "      <td>11</td>\n",
       "      <td>0</td>\n",
       "      <td>S35 4</td>\n",
       "      <td>-1.486937</td>\n",
       "      <td>53.477343</td>\n",
       "    </tr>\n",
       "    <tr>\n",
       "      <th>2</th>\n",
       "      <td>1</td>\n",
       "      <td>2</td>\n",
       "      <td>02/11/12</td>\n",
       "      <td>4</td>\n",
       "      <td>3</td>\n",
       "      <td>6</td>\n",
       "      <td>Roundabout</td>\n",
       "      <td>40</td>\n",
       "      <td>6</td>\n",
       "      <td>None within 50 metres</td>\n",
       "      <td>...</td>\n",
       "      <td>BN21 2XR</td>\n",
       "      <td>1.333333</td>\n",
       "      <td>train</td>\n",
       "      <td>2012</td>\n",
       "      <td>2</td>\n",
       "      <td>11</td>\n",
       "      <td>0</td>\n",
       "      <td>BN21 2</td>\n",
       "      <td>0.141196</td>\n",
       "      <td>50.852716</td>\n",
       "    </tr>\n",
       "    <tr>\n",
       "      <th>3</th>\n",
       "      <td>1</td>\n",
       "      <td>1</td>\n",
       "      <td>06/05/12</td>\n",
       "      <td>1</td>\n",
       "      <td>3</td>\n",
       "      <td>6</td>\n",
       "      <td>Single carriageway</td>\n",
       "      <td>30</td>\n",
       "      <td>6</td>\n",
       "      <td>None within 50 metres</td>\n",
       "      <td>...</td>\n",
       "      <td>TA20 3PT</td>\n",
       "      <td>1.666667</td>\n",
       "      <td>train</td>\n",
       "      <td>2012</td>\n",
       "      <td>6</td>\n",
       "      <td>5</td>\n",
       "      <td>0</td>\n",
       "      <td>TA20 3</td>\n",
       "      <td>-3.013006</td>\n",
       "      <td>50.880963</td>\n",
       "    </tr>\n",
       "    <tr>\n",
       "      <th>4</th>\n",
       "      <td>46</td>\n",
       "      <td>1</td>\n",
       "      <td>30/06/12</td>\n",
       "      <td>3</td>\n",
       "      <td>3</td>\n",
       "      <td>3</td>\n",
       "      <td>Dual carriageway</td>\n",
       "      <td>30</td>\n",
       "      <td>6</td>\n",
       "      <td>None within 50 metres</td>\n",
       "      <td>...</td>\n",
       "      <td>DN20 0QF</td>\n",
       "      <td>1.500000</td>\n",
       "      <td>train</td>\n",
       "      <td>2012</td>\n",
       "      <td>6</td>\n",
       "      <td>30</td>\n",
       "      <td>0</td>\n",
       "      <td>DN20 0</td>\n",
       "      <td>-0.502351</td>\n",
       "      <td>53.569844</td>\n",
       "    </tr>\n",
       "  </tbody>\n",
       "</table>\n",
       "<p>5 rows × 29 columns</p>\n",
       "</div>"
      ],
      "text/plain": [
       "   Police_Force  Number_of_Vehicles      Date  Day_of_Week  Time  \\\n",
       "0            34                   2  19/12/12            7     3   \n",
       "1             5                   2  02/11/12            4     1   \n",
       "2             1                   2  02/11/12            4     3   \n",
       "3             1                   1  06/05/12            1     3   \n",
       "4            46                   1  30/06/12            3     3   \n",
       "\n",
       "   1st_Road_Class           Road_Type  Speed_limit  2nd_Road_Class  \\\n",
       "0               4  Single carriageway           30              -1   \n",
       "1               3      One way street           30              -1   \n",
       "2               6          Roundabout           40               6   \n",
       "3               6  Single carriageway           30               6   \n",
       "4               3    Dual carriageway           30               6   \n",
       "\n",
       "  Pedestrian_Crossing-Human_Control  ...  postcode Accident_Risk_Index  \\\n",
       "0             None within 50 metres  ...   OX3 9UP            1.833333   \n",
       "1             None within 50 metres  ...   S35 4EZ            1.333333   \n",
       "2             None within 50 metres  ...  BN21 2XR            1.333333   \n",
       "3             None within 50 metres  ...  TA20 3PT            1.666667   \n",
       "4             None within 50 metres  ...  DN20 0QF            1.500000   \n",
       "\n",
       "  train_or_test  Year Month Day  weekend postcode_merge       lat        log  \n",
       "0         train  2012    12  19        1          OX3 9 -1.235937  51.757932  \n",
       "1         train  2012     2  11        0          S35 4 -1.486937  53.477343  \n",
       "2         train  2012     2  11        0         BN21 2  0.141196  50.852716  \n",
       "3         train  2012     6   5        0         TA20 3 -3.013006  50.880963  \n",
       "4         train  2012     6  30        0         DN20 0 -0.502351  53.569844  \n",
       "\n",
       "[5 rows x 29 columns]"
      ]
     },
     "execution_count": 36,
     "metadata": {},
     "output_type": "execute_result"
    }
   ],
   "source": [
    "df1['postcode_merge']=df1['postcode'].apply(lambda x : x[0:-2])\n",
    "df1  = pd.merge(df1, rn, how='left',on=['postcode_merge'])\n",
    "df1.head()"
   ]
  },
  {
   "cell_type": "code",
   "execution_count": 46,
   "id": "f54ad4f4",
   "metadata": {
    "scrolled": true
   },
   "outputs": [
    {
     "data": {
      "text/plain": [
       "Police_Force                                        0\n",
       "Number_of_Vehicles                                  0\n",
       "Date                                                0\n",
       "Day_of_Week                                         0\n",
       "Time                                                0\n",
       "1st_Road_Class                                      0\n",
       "Road_Type                                           0\n",
       "Speed_limit                                         0\n",
       "2nd_Road_Class                                      0\n",
       "Pedestrian_Crossing-Human_Control                   0\n",
       "Pedestrian_Crossing-Physical_Facilities             0\n",
       "Light_Conditions                                    0\n",
       "Weather_Conditions                                  0\n",
       "Road_Surface_Conditions                             0\n",
       "Special_Conditions_at_Site                          0\n",
       "Carriageway_Hazards                                 0\n",
       "Urban_or_Rural_Area                                 0\n",
       "Did_Police_Officer_Attend_Scene_of_Accident         0\n",
       "state                                               0\n",
       "postcode                                            0\n",
       "Accident_Risk_Index                            121259\n",
       "train_or_test                                       0\n",
       "Year                                                0\n",
       "Month                                               0\n",
       "Day                                                 0\n",
       "weekend                                             0\n",
       "postcode_merge                                      0\n",
       "lat                                                 0\n",
       "log                                                 0\n",
       "county_code                                         0\n",
       "dtype: int64"
      ]
     },
     "execution_count": 46,
     "metadata": {},
     "output_type": "execute_result"
    }
   ],
   "source": [
    "df1[df1.train_or_test=='test'].isnull().sum()"
   ]
  },
  {
   "cell_type": "code",
   "execution_count": 44,
   "id": "8e46725e",
   "metadata": {
    "scrolled": true
   },
   "outputs": [
    {
     "data": {
      "text/plain": [
       "Police_Force                                        0\n",
       "Number_of_Vehicles                                  0\n",
       "Date                                                0\n",
       "Day_of_Week                                         0\n",
       "Time                                                0\n",
       "1st_Road_Class                                      0\n",
       "Road_Type                                           0\n",
       "Speed_limit                                         0\n",
       "2nd_Road_Class                                      0\n",
       "Pedestrian_Crossing-Human_Control                   0\n",
       "Pedestrian_Crossing-Physical_Facilities             0\n",
       "Light_Conditions                                    0\n",
       "Weather_Conditions                                  0\n",
       "Road_Surface_Conditions                             0\n",
       "Special_Conditions_at_Site                          0\n",
       "Carriageway_Hazards                                 0\n",
       "Urban_or_Rural_Area                                 0\n",
       "Did_Police_Officer_Attend_Scene_of_Accident         0\n",
       "state                                               0\n",
       "postcode                                            0\n",
       "Accident_Risk_Index                            121259\n",
       "train_or_test                                       0\n",
       "Year                                                0\n",
       "Month                                               0\n",
       "Day                                                 0\n",
       "weekend                                             0\n",
       "postcode_merge                                      0\n",
       "lat                                               159\n",
       "log                                               159\n",
       "county_code                                         0\n",
       "dtype: int64"
      ]
     },
     "execution_count": 44,
     "metadata": {},
     "output_type": "execute_result"
    }
   ],
   "source": [
    "df1.isnull().sum()"
   ]
  },
  {
   "cell_type": "code",
   "execution_count": 41,
   "id": "2cd2f5e2",
   "metadata": {},
   "outputs": [],
   "source": [
    "df1['county_code']=df1['postcode'].apply(county_code)"
   ]
  },
  {
   "cell_type": "markdown",
   "id": "0bc647ed",
   "metadata": {},
   "source": []
  },
  {
   "cell_type": "code",
   "execution_count": 42,
   "id": "e02541af",
   "metadata": {},
   "outputs": [],
   "source": [
    "cols= ['lat', 'log']\n",
    "\n",
    "for i in cols:\n",
    "    df1[i] = df1[i].fillna(df1.groupby('county_code')[i].transform('mean'))"
   ]
  },
  {
   "cell_type": "code",
   "execution_count": 45,
   "id": "1467efee",
   "metadata": {},
   "outputs": [],
   "source": [
    "for i in cols:\n",
    "    df1[i] = df1[i].fillna(df1.groupby('state')[i].transform('mean'))"
   ]
  },
  {
   "cell_type": "code",
   "execution_count": 52,
   "id": "6fedb470",
   "metadata": {},
   "outputs": [
    {
     "data": {
      "text/plain": [
       "Index(['Police_Force', 'Number_of_Vehicles', 'Day_of_Week', 'Time',\n",
       "       '1st_Road_Class', 'Road_Type', 'Speed_limit', '2nd_Road_Class',\n",
       "       'Pedestrian_Crossing-Human_Control',\n",
       "       'Pedestrian_Crossing-Physical_Facilities', 'Light_Conditions',\n",
       "       'Weather_Conditions', 'Road_Surface_Conditions',\n",
       "       'Special_Conditions_at_Site', 'Carriageway_Hazards',\n",
       "       'Urban_or_Rural_Area', 'state', 'Accident_Risk_Index', 'train_or_test',\n",
       "       'Year', 'Month', 'Day', 'weekend', 'lat', 'log'],\n",
       "      dtype='object')"
      ]
     },
     "execution_count": 52,
     "metadata": {},
     "output_type": "execute_result"
    }
   ],
   "source": [
    "df1.columns"
   ]
  },
  {
   "cell_type": "code",
   "execution_count": 57,
   "id": "7e3ba8e5",
   "metadata": {},
   "outputs": [
    {
     "data": {
      "text/plain": [
       "Police_Force                          5\n",
       "Number_of_Vehicles                    2\n",
       "Day_of_Week                           4\n",
       "Time                                  1\n",
       "1st_Road_Class                        3\n",
       "Road_Type                             1\n",
       "Speed_limit                          30\n",
       "2nd_Road_Class                       -1\n",
       "Light_Conditions                      4\n",
       "Weather_Conditions                    5\n",
       "Road_Surface_Conditions               0\n",
       "Special_Conditions_at_Site            3\n",
       "Carriageway_Hazards                   3\n",
       "Urban_or_Rural_Area                   1\n",
       "state                                 2\n",
       "Accident_Risk_Index            1.333333\n",
       "train_or_test                     train\n",
       "Year                               2012\n",
       "Month                                 2\n",
       "Day                                  11\n",
       "weekend                               0\n",
       "lat                           -1.486937\n",
       "log                           53.477343\n",
       "pc                                   12\n",
       "lw                                   40\n",
       "rc                                   14\n",
       "Name: 1, dtype: object"
      ]
     },
     "execution_count": 57,
     "metadata": {},
     "output_type": "execute_result"
    }
   ],
   "source": [
    "df1.iloc[1]"
   ]
  },
  {
   "cell_type": "code",
   "execution_count": 50,
   "id": "3fc997d5",
   "metadata": {},
   "outputs": [],
   "source": [
    "df1.drop(['postcode','county_code','postcode_merge','Date','Did_Police_Officer_Attend_Scene_of_Accident'],axis=1,inplace=True)"
   ]
  },
  {
   "cell_type": "code",
   "execution_count": 53,
   "id": "3fbc4b7a",
   "metadata": {},
   "outputs": [],
   "source": [
    "df1['pc']=df1['Pedestrian_Crossing-Human_Control']+df1['Pedestrian_Crossing-Physical_Facilities']\n",
    "df1['lw']=df1['Light_Conditions']+df1['Weather_Conditions']\n",
    "df1['rc']=df1['Road_Surface_Conditions']+df1['Special_Conditions_at_Site']+df1['Carriageway_Hazards']"
   ]
  },
  {
   "cell_type": "code",
   "execution_count": 55,
   "id": "35f77aee",
   "metadata": {},
   "outputs": [],
   "source": [
    "df1.drop(['Pedestrian_Crossing-Human_Control','Pedestrian_Crossing-Physical_Facilities'],axis=1,inplace=True)"
   ]
  },
  {
   "cell_type": "code",
   "execution_count": 56,
   "id": "86383d6a",
   "metadata": {},
   "outputs": [],
   "source": [
    "from sklearn.preprocessing import LabelEncoder\n",
    "categ_col=['Road_Type', 'Light_Conditions','pc','lw','rc',\n",
    "       'Weather_Conditions', 'Road_Surface_Conditions',\n",
    "       'Special_Conditions_at_Site', 'Carriageway_Hazards','state']\n",
    "for c in categ_col:\n",
    "    le = LabelEncoder()\n",
    "    df1[c] = le.fit_transform(df1[c])"
   ]
  },
  {
   "cell_type": "code",
   "execution_count": 59,
   "id": "ba89e22e",
   "metadata": {},
   "outputs": [],
   "source": [
    "df2=df1.drop(['Accident_Risk_Index','train_or_test'],axis=1)"
   ]
  },
  {
   "cell_type": "code",
   "execution_count": 64,
   "id": "5b8a3cb6",
   "metadata": {},
   "outputs": [
    {
     "data": {
      "text/html": [
       "<div>\n",
       "<style scoped>\n",
       "    .dataframe tbody tr th:only-of-type {\n",
       "        vertical-align: middle;\n",
       "    }\n",
       "\n",
       "    .dataframe tbody tr th {\n",
       "        vertical-align: top;\n",
       "    }\n",
       "\n",
       "    .dataframe thead th {\n",
       "        text-align: right;\n",
       "    }\n",
       "</style>\n",
       "<table border=\"1\" class=\"dataframe\">\n",
       "  <thead>\n",
       "    <tr style=\"text-align: right;\">\n",
       "      <th></th>\n",
       "      <th>count</th>\n",
       "      <th>mean</th>\n",
       "      <th>std</th>\n",
       "      <th>min</th>\n",
       "      <th>25%</th>\n",
       "      <th>50%</th>\n",
       "      <th>75%</th>\n",
       "      <th>max</th>\n",
       "    </tr>\n",
       "  </thead>\n",
       "  <tbody>\n",
       "    <tr>\n",
       "      <th>lat</th>\n",
       "      <td>600000.0</td>\n",
       "      <td>-1.412200</td>\n",
       "      <td>1.356557</td>\n",
       "      <td>-6.306240</td>\n",
       "      <td>-2.317185</td>\n",
       "      <td>-1.401829</td>\n",
       "      <td>-0.231591</td>\n",
       "      <td>1.742991</td>\n",
       "    </tr>\n",
       "    <tr>\n",
       "      <th>log</th>\n",
       "      <td>600000.0</td>\n",
       "      <td>52.689252</td>\n",
       "      <td>1.439188</td>\n",
       "      <td>49.919436</td>\n",
       "      <td>51.510356</td>\n",
       "      <td>52.480112</td>\n",
       "      <td>53.583483</td>\n",
       "      <td>58.010929</td>\n",
       "    </tr>\n",
       "  </tbody>\n",
       "</table>\n",
       "</div>"
      ],
      "text/plain": [
       "        count       mean       std        min        25%        50%  \\\n",
       "lat  600000.0  -1.412200  1.356557  -6.306240  -2.317185  -1.401829   \n",
       "log  600000.0  52.689252  1.439188  49.919436  51.510356  52.480112   \n",
       "\n",
       "           75%        max  \n",
       "lat  -0.231591   1.742991  \n",
       "log  53.583483  58.010929  "
      ]
     },
     "execution_count": 64,
     "metadata": {},
     "output_type": "execute_result"
    }
   ],
   "source": [
    "df1[cols].describe().transpose()"
   ]
  },
  {
   "cell_type": "code",
   "execution_count": 65,
   "id": "93a9ee5d",
   "metadata": {},
   "outputs": [],
   "source": [
    "df1[\"lat\"] = pd.qcut(df1[\"lat\"], 10, labels=False)\n",
    "df1[\"log\"] = pd.qcut(df1[\"log\"], 10, labels=False)\n",
    "#df1['zone'] = df1['lat'].astype(str)+'_'+df1['long'].astype(str)\n",
    "#df1 = df1.drop(['lat','log'],axis=1)"
   ]
  },
  {
   "cell_type": "code",
   "execution_count": 67,
   "id": "6a7b26bb",
   "metadata": {},
   "outputs": [
    {
     "data": {
      "text/html": [
       "<div>\n",
       "<style scoped>\n",
       "    .dataframe tbody tr th:only-of-type {\n",
       "        vertical-align: middle;\n",
       "    }\n",
       "\n",
       "    .dataframe tbody tr th {\n",
       "        vertical-align: top;\n",
       "    }\n",
       "\n",
       "    .dataframe thead th {\n",
       "        text-align: right;\n",
       "    }\n",
       "</style>\n",
       "<table border=\"1\" class=\"dataframe\">\n",
       "  <thead>\n",
       "    <tr style=\"text-align: right;\">\n",
       "      <th></th>\n",
       "      <th>Police_Force</th>\n",
       "      <th>Number_of_Vehicles</th>\n",
       "      <th>Day_of_Week</th>\n",
       "      <th>Time</th>\n",
       "      <th>1st_Road_Class</th>\n",
       "      <th>Road_Type</th>\n",
       "      <th>Speed_limit</th>\n",
       "      <th>2nd_Road_Class</th>\n",
       "      <th>Light_Conditions</th>\n",
       "      <th>Weather_Conditions</th>\n",
       "      <th>...</th>\n",
       "      <th>train_or_test</th>\n",
       "      <th>Year</th>\n",
       "      <th>Month</th>\n",
       "      <th>Day</th>\n",
       "      <th>weekend</th>\n",
       "      <th>lat</th>\n",
       "      <th>log</th>\n",
       "      <th>pc</th>\n",
       "      <th>lw</th>\n",
       "      <th>rc</th>\n",
       "    </tr>\n",
       "  </thead>\n",
       "  <tbody>\n",
       "    <tr>\n",
       "      <th>0</th>\n",
       "      <td>34</td>\n",
       "      <td>2</td>\n",
       "      <td>7</td>\n",
       "      <td>3</td>\n",
       "      <td>4</td>\n",
       "      <td>3</td>\n",
       "      <td>30</td>\n",
       "      <td>-1</td>\n",
       "      <td>4</td>\n",
       "      <td>1</td>\n",
       "      <td>...</td>\n",
       "      <td>train</td>\n",
       "      <td>2012</td>\n",
       "      <td>12</td>\n",
       "      <td>19</td>\n",
       "      <td>1</td>\n",
       "      <td>5</td>\n",
       "      <td>3</td>\n",
       "      <td>12</td>\n",
       "      <td>36</td>\n",
       "      <td>18</td>\n",
       "    </tr>\n",
       "    <tr>\n",
       "      <th>1</th>\n",
       "      <td>5</td>\n",
       "      <td>2</td>\n",
       "      <td>4</td>\n",
       "      <td>1</td>\n",
       "      <td>3</td>\n",
       "      <td>1</td>\n",
       "      <td>30</td>\n",
       "      <td>-1</td>\n",
       "      <td>4</td>\n",
       "      <td>5</td>\n",
       "      <td>...</td>\n",
       "      <td>train</td>\n",
       "      <td>2012</td>\n",
       "      <td>2</td>\n",
       "      <td>11</td>\n",
       "      <td>0</td>\n",
       "      <td>4</td>\n",
       "      <td>7</td>\n",
       "      <td>12</td>\n",
       "      <td>40</td>\n",
       "      <td>14</td>\n",
       "    </tr>\n",
       "  </tbody>\n",
       "</table>\n",
       "<p>2 rows × 26 columns</p>\n",
       "</div>"
      ],
      "text/plain": [
       "   Police_Force  Number_of_Vehicles  Day_of_Week  Time  1st_Road_Class  \\\n",
       "0            34                   2            7     3               4   \n",
       "1             5                   2            4     1               3   \n",
       "\n",
       "   Road_Type  Speed_limit  2nd_Road_Class  Light_Conditions  \\\n",
       "0          3           30              -1                 4   \n",
       "1          1           30              -1                 4   \n",
       "\n",
       "   Weather_Conditions  ...  train_or_test  Year  Month  Day  weekend  lat log  \\\n",
       "0                   1  ...          train  2012     12   19        1    5   3   \n",
       "1                   5  ...          train  2012      2   11        0    4   7   \n",
       "\n",
       "   pc  lw  rc  \n",
       "0  12  36  18  \n",
       "1  12  40  14  \n",
       "\n",
       "[2 rows x 26 columns]"
      ]
     },
     "execution_count": 67,
     "metadata": {},
     "output_type": "execute_result"
    }
   ],
   "source": [
    "df1.head(2)"
   ]
  },
  {
   "cell_type": "code",
   "execution_count": 68,
   "id": "38659a82",
   "metadata": {},
   "outputs": [
    {
     "name": "stderr",
     "output_type": "stream",
     "text": [
      "C:\\Users\\91844\\AppData\\Local\\Programs\\Python\\Python39\\lib\\site-packages\\pandas\\core\\frame.py:4906: SettingWithCopyWarning: \n",
      "A value is trying to be set on a copy of a slice from a DataFrame\n",
      "\n",
      "See the caveats in the documentation: https://pandas.pydata.org/pandas-docs/stable/user_guide/indexing.html#returning-a-view-versus-a-copy\n",
      "  return super().drop(\n"
     ]
    }
   ],
   "source": [
    "train1=df1[df1.train_or_test=='train']\n",
    "test1=df1[df1.train_or_test=='test']\n",
    "train1.drop('train_or_test',axis=1,inplace=True)\n",
    "test1.drop('train_or_test',axis=1,inplace=True)"
   ]
  },
  {
   "cell_type": "code",
   "execution_count": 69,
   "id": "fe1d1773",
   "metadata": {},
   "outputs": [],
   "source": [
    "target = train1['Accident_Risk_Index']\n",
    "\n",
    "train_df = train1.drop(columns =['Accident_Risk_Index'])\n",
    "\n",
    "test_df = test1.drop(columns=['Accident_Risk_Index'])"
   ]
  },
  {
   "cell_type": "markdown",
   "id": "9da27706",
   "metadata": {},
   "source": [
    "# MODEL"
   ]
  },
  {
   "cell_type": "code",
   "execution_count": 70,
   "id": "2291cfbc",
   "metadata": {},
   "outputs": [],
   "source": [
    "import optuna\n",
    "from optuna.visualization import plot_optimization_history, plot_param_importances"
   ]
  },
  {
   "cell_type": "code",
   "execution_count": 81,
   "id": "08832210",
   "metadata": {},
   "outputs": [],
   "source": [
    "from sklearn.model_selection import train_test_split\n",
    "import xgboost as xgb\n",
    "from sklearn.metrics import make_scorer, mean_squared_error, r2_score"
   ]
  },
  {
   "cell_type": "code",
   "execution_count": 79,
   "id": "74a2f1fc",
   "metadata": {},
   "outputs": [],
   "source": [
    "def objective(trial, data=train_df, target=target):\n",
    "    X_train, X_val, y_train, y_val = train_test_split(data, target, test_size=0.2, random_state=42)\n",
    "\n",
    "    params = {\n",
    "        'max_depth': trial.suggest_int('max_depth', 3, 32),\n",
    "        'learning_rate': trial.suggest_categorical('learning_rate', [0.005, 0.02, 0.05, 0.08, 0.1]),\n",
    "        'n_estimators': trial.suggest_int('n_estimators', 2000, 8000),\n",
    "        'min_child_weight': trial.suggest_int('min_child_weight', 1, 300),\n",
    "        'gamma': trial.suggest_float('gamma', 0.0001, 1.0, log = True),\n",
    "        'alpha': trial.suggest_float('alpha', 0.0001, 10.0, log = True),\n",
    "        'lambda': trial.suggest_float('lambda', 0.0001, 10.0, log = True),\n",
    "        'colsample_bytree': trial.suggest_float('colsample_bytree', 0.1, 0.8),\n",
    "        'subsample': trial.suggest_float('subsample', 0.1, 0.8),\n",
    "        'booster': 'gblinear',\n",
    "        'random_state': 42,\n",
    "        'eval_metric': 'rmse'\n",
    "\n",
    "    }\n",
    "    \n",
    "    model = xgb.XGBRegressor(**params)  \n",
    "    model.fit(X_train, y_train, eval_set = [(X_val,y_val)], early_stopping_rounds = 333, verbose = False)\n",
    "    y_pred = model.predict(X_val)\n",
    "    mse = metric(y_val, y_pred)\n",
    "\n",
    "    return mse"
   ]
  },
  {
   "cell_type": "code",
   "execution_count": 83,
   "id": "873bdcc7",
   "metadata": {
    "collapsed": true
   },
   "outputs": [
    {
     "name": "stderr",
     "output_type": "stream",
     "text": [
      "\u001b[32m[I 2022-03-28 18:07:17,040]\u001b[0m A new study created in memory with name: no-name-bb94be3d-f33c-47fa-a85d-946f9446f6b3\u001b[0m\n"
     ]
    },
    {
     "name": "stdout",
     "output_type": "stream",
     "text": [
      "[18:07:17] WARNING: C:/Users/Administrator/workspace/xgboost-win64_release_1.5.1/src/learner.cc:576: \n",
      "Parameters: { \"colsample_bytree\", \"gamma\", \"max_depth\", \"min_child_weight\", \"subsample\" } might not be used.\n",
      "\n",
      "  This could be a false alarm, with some parameters getting used by language bindings but\n",
      "  then being mistakenly passed down to XGBoost core, or some parameter actually being used\n",
      "  but getting flagged wrongly here. Please open an issue if you find any such cases.\n",
      "\n",
      "\n"
     ]
    },
    {
     "name": "stderr",
     "output_type": "stream",
     "text": [
      "\u001b[32m[I 2022-03-28 18:07:26,471]\u001b[0m Trial 0 finished with value: 0.3617102110255804 and parameters: {'max_depth': 16, 'learning_rate': 0.08, 'n_estimators': 5136, 'min_child_weight': 50, 'gamma': 0.0317364093363946, 'alpha': 3.6324148467840165, 'lambda': 0.01242773891568861, 'colsample_bytree': 0.37918945249870417, 'subsample': 0.4288030236098468}. Best is trial 0 with value: 0.3617102110255804.\u001b[0m\n"
     ]
    },
    {
     "name": "stdout",
     "output_type": "stream",
     "text": [
      "[18:07:26] WARNING: C:/Users/Administrator/workspace/xgboost-win64_release_1.5.1/src/learner.cc:576: \n",
      "Parameters: { \"colsample_bytree\", \"gamma\", \"max_depth\", \"min_child_weight\", \"subsample\" } might not be used.\n",
      "\n",
      "  This could be a false alarm, with some parameters getting used by language bindings but\n",
      "  then being mistakenly passed down to XGBoost core, or some parameter actually being used\n",
      "  but getting flagged wrongly here. Please open an issue if you find any such cases.\n",
      "\n",
      "\n"
     ]
    },
    {
     "name": "stderr",
     "output_type": "stream",
     "text": [
      "\u001b[32m[I 2022-03-28 18:08:23,624]\u001b[0m Trial 1 finished with value: 0.3616120023988419 and parameters: {'max_depth': 29, 'learning_rate': 0.08, 'n_estimators': 4607, 'min_child_weight': 67, 'gamma': 0.15571692151052208, 'alpha': 0.054242045578479545, 'lambda': 0.01693909522634645, 'colsample_bytree': 0.18840042224483478, 'subsample': 0.6235096295570068}. Best is trial 1 with value: 0.3616120023988419.\u001b[0m\n"
     ]
    },
    {
     "name": "stdout",
     "output_type": "stream",
     "text": [
      "[18:08:23] WARNING: C:/Users/Administrator/workspace/xgboost-win64_release_1.5.1/src/learner.cc:576: \n",
      "Parameters: { \"colsample_bytree\", \"gamma\", \"max_depth\", \"min_child_weight\", \"subsample\" } might not be used.\n",
      "\n",
      "  This could be a false alarm, with some parameters getting used by language bindings but\n",
      "  then being mistakenly passed down to XGBoost core, or some parameter actually being used\n",
      "  but getting flagged wrongly here. Please open an issue if you find any such cases.\n",
      "\n",
      "\n"
     ]
    },
    {
     "name": "stderr",
     "output_type": "stream",
     "text": [
      "\u001b[32m[I 2022-03-28 18:12:26,042]\u001b[0m Trial 2 finished with value: 0.3612390713217165 and parameters: {'max_depth': 15, 'learning_rate': 0.08, 'n_estimators': 7007, 'min_child_weight': 28, 'gamma': 0.517515593484536, 'alpha': 0.0008668580945217386, 'lambda': 0.008094393502709338, 'colsample_bytree': 0.5265968095820165, 'subsample': 0.7190712007836293}. Best is trial 2 with value: 0.3612390713217165.\u001b[0m\n"
     ]
    },
    {
     "name": "stdout",
     "output_type": "stream",
     "text": [
      "[18:12:26] WARNING: C:/Users/Administrator/workspace/xgboost-win64_release_1.5.1/src/learner.cc:576: \n",
      "Parameters: { \"colsample_bytree\", \"gamma\", \"max_depth\", \"min_child_weight\", \"subsample\" } might not be used.\n",
      "\n",
      "  This could be a false alarm, with some parameters getting used by language bindings but\n",
      "  then being mistakenly passed down to XGBoost core, or some parameter actually being used\n",
      "  but getting flagged wrongly here. Please open an issue if you find any such cases.\n",
      "\n",
      "\n"
     ]
    },
    {
     "name": "stderr",
     "output_type": "stream",
     "text": [
      "\u001b[32m[I 2022-03-28 18:12:43,294]\u001b[0m Trial 3 finished with value: 0.36170467108209625 and parameters: {'max_depth': 32, 'learning_rate': 0.08, 'n_estimators': 5664, 'min_child_weight': 40, 'gamma': 0.000534437334220305, 'alpha': 0.2826486118727411, 'lambda': 0.0016788817953108603, 'colsample_bytree': 0.2625598627187579, 'subsample': 0.25904441191660565}. Best is trial 2 with value: 0.3612390713217165.\u001b[0m\n"
     ]
    },
    {
     "name": "stdout",
     "output_type": "stream",
     "text": [
      "[18:12:43] WARNING: C:/Users/Administrator/workspace/xgboost-win64_release_1.5.1/src/learner.cc:576: \n",
      "Parameters: { \"colsample_bytree\", \"gamma\", \"max_depth\", \"min_child_weight\", \"subsample\" } might not be used.\n",
      "\n",
      "  This could be a false alarm, with some parameters getting used by language bindings but\n",
      "  then being mistakenly passed down to XGBoost core, or some parameter actually being used\n",
      "  but getting flagged wrongly here. Please open an issue if you find any such cases.\n",
      "\n",
      "\n"
     ]
    },
    {
     "name": "stderr",
     "output_type": "stream",
     "text": [
      "\u001b[32m[I 2022-03-28 18:13:46,093]\u001b[0m Trial 4 finished with value: 0.36127649553502306 and parameters: {'max_depth': 11, 'learning_rate': 0.1, 'n_estimators': 2636, 'min_child_weight': 138, 'gamma': 0.007087487619854724, 'alpha': 0.00019854972735638748, 'lambda': 0.06450984693773483, 'colsample_bytree': 0.10463928840691201, 'subsample': 0.40559775213439453}. Best is trial 2 with value: 0.3612390713217165.\u001b[0m\n"
     ]
    },
    {
     "name": "stdout",
     "output_type": "stream",
     "text": [
      "[18:13:46] WARNING: C:/Users/Administrator/workspace/xgboost-win64_release_1.5.1/src/learner.cc:576: \n",
      "Parameters: { \"colsample_bytree\", \"gamma\", \"max_depth\", \"min_child_weight\", \"subsample\" } might not be used.\n",
      "\n",
      "  This could be a false alarm, with some parameters getting used by language bindings but\n",
      "  then being mistakenly passed down to XGBoost core, or some parameter actually being used\n",
      "  but getting flagged wrongly here. Please open an issue if you find any such cases.\n",
      "\n",
      "\n"
     ]
    },
    {
     "name": "stderr",
     "output_type": "stream",
     "text": [
      "\u001b[32m[I 2022-03-28 18:15:59,811]\u001b[0m Trial 5 finished with value: 0.36321522665725525 and parameters: {'max_depth': 32, 'learning_rate': 0.005, 'n_estimators': 7335, 'min_child_weight': 209, 'gamma': 0.12070337116818822, 'alpha': 0.0076098184064290406, 'lambda': 0.14152718308726772, 'colsample_bytree': 0.6551118103778522, 'subsample': 0.7434971617725615}. Best is trial 2 with value: 0.3612390713217165.\u001b[0m\n"
     ]
    },
    {
     "name": "stdout",
     "output_type": "stream",
     "text": [
      "[18:16:00] WARNING: C:/Users/Administrator/workspace/xgboost-win64_release_1.5.1/src/learner.cc:576: \n",
      "Parameters: { \"colsample_bytree\", \"gamma\", \"max_depth\", \"min_child_weight\", \"subsample\" } might not be used.\n",
      "\n",
      "  This could be a false alarm, with some parameters getting used by language bindings but\n",
      "  then being mistakenly passed down to XGBoost core, or some parameter actually being used\n",
      "  but getting flagged wrongly here. Please open an issue if you find any such cases.\n",
      "\n",
      "\n"
     ]
    },
    {
     "name": "stderr",
     "output_type": "stream",
     "text": [
      "\u001b[32m[I 2022-03-28 18:16:32,327]\u001b[0m Trial 6 finished with value: 0.36166674816316197 and parameters: {'max_depth': 23, 'learning_rate': 0.1, 'n_estimators': 6124, 'min_child_weight': 89, 'gamma': 0.005676162833330357, 'alpha': 0.09542162870209438, 'lambda': 1.1929036130412265, 'colsample_bytree': 0.7373916680793415, 'subsample': 0.784201934370596}. Best is trial 2 with value: 0.3612390713217165.\u001b[0m\n"
     ]
    },
    {
     "name": "stdout",
     "output_type": "stream",
     "text": [
      "[18:16:32] WARNING: C:/Users/Administrator/workspace/xgboost-win64_release_1.5.1/src/learner.cc:576: \n",
      "Parameters: { \"colsample_bytree\", \"gamma\", \"max_depth\", \"min_child_weight\", \"subsample\" } might not be used.\n",
      "\n",
      "  This could be a false alarm, with some parameters getting used by language bindings but\n",
      "  then being mistakenly passed down to XGBoost core, or some parameter actually being used\n",
      "  but getting flagged wrongly here. Please open an issue if you find any such cases.\n",
      "\n",
      "\n"
     ]
    },
    {
     "name": "stderr",
     "output_type": "stream",
     "text": [
      "\u001b[32m[I 2022-03-28 18:16:40,961]\u001b[0m Trial 7 finished with value: 0.361708745935371 and parameters: {'max_depth': 4, 'learning_rate': 0.08, 'n_estimators': 3266, 'min_child_weight': 145, 'gamma': 0.22937773801375896, 'alpha': 2.857938123529125, 'lambda': 0.09574339262776235, 'colsample_bytree': 0.6874907105715028, 'subsample': 0.5143096810895056}. Best is trial 2 with value: 0.3612390713217165.\u001b[0m\n"
     ]
    },
    {
     "name": "stdout",
     "output_type": "stream",
     "text": [
      "[18:16:41] WARNING: C:/Users/Administrator/workspace/xgboost-win64_release_1.5.1/src/learner.cc:576: \n",
      "Parameters: { \"colsample_bytree\", \"gamma\", \"max_depth\", \"min_child_weight\", \"subsample\" } might not be used.\n",
      "\n",
      "  This could be a false alarm, with some parameters getting used by language bindings but\n",
      "  then being mistakenly passed down to XGBoost core, or some parameter actually being used\n",
      "  but getting flagged wrongly here. Please open an issue if you find any such cases.\n",
      "\n",
      "\n"
     ]
    },
    {
     "name": "stderr",
     "output_type": "stream",
     "text": [
      "\u001b[32m[I 2022-03-28 18:19:07,854]\u001b[0m Trial 8 finished with value: 0.3629600536355745 and parameters: {'max_depth': 30, 'learning_rate': 0.005, 'n_estimators': 7972, 'min_child_weight': 270, 'gamma': 0.00047915364840938533, 'alpha': 0.0032774446977253814, 'lambda': 2.7122599836457217, 'colsample_bytree': 0.20040285327613483, 'subsample': 0.5904044405823834}. Best is trial 2 with value: 0.3612390713217165.\u001b[0m\n"
     ]
    },
    {
     "name": "stdout",
     "output_type": "stream",
     "text": [
      "[18:19:08] WARNING: C:/Users/Administrator/workspace/xgboost-win64_release_1.5.1/src/learner.cc:576: \n",
      "Parameters: { \"colsample_bytree\", \"gamma\", \"max_depth\", \"min_child_weight\", \"subsample\" } might not be used.\n",
      "\n",
      "  This could be a false alarm, with some parameters getting used by language bindings but\n",
      "  then being mistakenly passed down to XGBoost core, or some parameter actually being used\n",
      "  but getting flagged wrongly here. Please open an issue if you find any such cases.\n",
      "\n",
      "\n"
     ]
    },
    {
     "name": "stderr",
     "output_type": "stream",
     "text": [
      "\u001b[32m[I 2022-03-28 18:19:25,794]\u001b[0m Trial 9 finished with value: 0.36170930446995425 and parameters: {'max_depth': 27, 'learning_rate': 0.02, 'n_estimators': 3903, 'min_child_weight': 128, 'gamma': 0.004482735446659862, 'alpha': 3.2604728846400284, 'lambda': 0.2743719076802413, 'colsample_bytree': 0.4106749190248834, 'subsample': 0.5648212130422886}. Best is trial 2 with value: 0.3612390713217165.\u001b[0m\n"
     ]
    },
    {
     "name": "stdout",
     "output_type": "stream",
     "text": [
      "[18:19:26] WARNING: C:/Users/Administrator/workspace/xgboost-win64_release_1.5.1/src/learner.cc:576: \n",
      "Parameters: { \"colsample_bytree\", \"gamma\", \"max_depth\", \"min_child_weight\", \"subsample\" } might not be used.\n",
      "\n",
      "  This could be a false alarm, with some parameters getting used by language bindings but\n",
      "  then being mistakenly passed down to XGBoost core, or some parameter actually being used\n",
      "  but getting flagged wrongly here. Please open an issue if you find any such cases.\n",
      "\n",
      "\n"
     ]
    },
    {
     "name": "stderr",
     "output_type": "stream",
     "text": [
      "\u001b[32m[I 2022-03-28 18:21:41,041]\u001b[0m Trial 10 finished with value: 0.3613028000305067 and parameters: {'max_depth': 14, 'learning_rate': 0.05, 'n_estimators': 6712, 'min_child_weight': 5, 'gamma': 0.5730247036799355, 'alpha': 0.00014465902543527305, 'lambda': 0.0002589263188110412, 'colsample_bytree': 0.5041631181048561, 'subsample': 0.17540447385793745}. Best is trial 2 with value: 0.3612390713217165.\u001b[0m\n"
     ]
    },
    {
     "name": "stdout",
     "output_type": "stream",
     "text": [
      "[18:21:41] WARNING: C:/Users/Administrator/workspace/xgboost-win64_release_1.5.1/src/learner.cc:576: \n",
      "Parameters: { \"colsample_bytree\", \"gamma\", \"max_depth\", \"min_child_weight\", \"subsample\" } might not be used.\n",
      "\n",
      "  This could be a false alarm, with some parameters getting used by language bindings but\n",
      "  then being mistakenly passed down to XGBoost core, or some parameter actually being used\n",
      "  but getting flagged wrongly here. Please open an issue if you find any such cases.\n",
      "\n",
      "\n"
     ]
    },
    {
     "name": "stderr",
     "output_type": "stream",
     "text": [
      "\u001b[32m[I 2022-03-28 18:22:21,410]\u001b[0m Trial 11 finished with value: 0.36142006276870753 and parameters: {'max_depth': 9, 'learning_rate': 0.1, 'n_estimators': 2137, 'min_child_weight': 211, 'gamma': 0.023544564958769, 'alpha': 0.0002552936762565455, 'lambda': 0.0029816598066495013, 'colsample_bytree': 0.5512617982176279, 'subsample': 0.32013580164624483}. Best is trial 2 with value: 0.3612390713217165.\u001b[0m\n"
     ]
    },
    {
     "name": "stdout",
     "output_type": "stream",
     "text": [
      "[18:22:21] WARNING: C:/Users/Administrator/workspace/xgboost-win64_release_1.5.1/src/learner.cc:576: \n",
      "Parameters: { \"colsample_bytree\", \"gamma\", \"max_depth\", \"min_child_weight\", \"subsample\" } might not be used.\n",
      "\n",
      "  This could be a false alarm, with some parameters getting used by language bindings but\n",
      "  then being mistakenly passed down to XGBoost core, or some parameter actually being used\n",
      "  but getting flagged wrongly here. Please open an issue if you find any such cases.\n",
      "\n",
      "\n"
     ]
    },
    {
     "name": "stderr",
     "output_type": "stream",
     "text": [
      "\u001b[32m[I 2022-03-28 18:23:16,235]\u001b[0m Trial 12 finished with value: 0.3613651602178991 and parameters: {'max_depth': 11, 'learning_rate': 0.1, 'n_estimators': 2331, 'min_child_weight': 193, 'gamma': 0.0018034175627594014, 'alpha': 0.001064567056094974, 'lambda': 0.004027570136475622, 'colsample_bytree': 0.10810350210059261, 'subsample': 0.3866838589502621}. Best is trial 2 with value: 0.3612390713217165.\u001b[0m\n"
     ]
    },
    {
     "name": "stdout",
     "output_type": "stream",
     "text": [
      "[18:23:16] WARNING: C:/Users/Administrator/workspace/xgboost-win64_release_1.5.1/src/learner.cc:576: \n",
      "Parameters: { \"colsample_bytree\", \"gamma\", \"max_depth\", \"min_child_weight\", \"subsample\" } might not be used.\n",
      "\n",
      "  This could be a false alarm, with some parameters getting used by language bindings but\n",
      "  then being mistakenly passed down to XGBoost core, or some parameter actually being used\n",
      "  but getting flagged wrongly here. Please open an issue if you find any such cases.\n",
      "\n",
      "\n"
     ]
    },
    {
     "name": "stderr",
     "output_type": "stream",
     "text": [
      "\u001b[32m[I 2022-03-28 18:24:18,027]\u001b[0m Trial 13 finished with value: 0.3615828441739153 and parameters: {'max_depth': 21, 'learning_rate': 0.05, 'n_estimators': 3079, 'min_child_weight': 294, 'gamma': 0.00012266582832937473, 'alpha': 0.0008744289969287757, 'lambda': 0.00032362903332064814, 'colsample_bytree': 0.32046790666805547, 'subsample': 0.693144188847007}. Best is trial 2 with value: 0.3612390713217165.\u001b[0m\n"
     ]
    },
    {
     "name": "stdout",
     "output_type": "stream",
     "text": [
      "[18:24:18] WARNING: C:/Users/Administrator/workspace/xgboost-win64_release_1.5.1/src/learner.cc:576: \n",
      "Parameters: { \"colsample_bytree\", \"gamma\", \"max_depth\", \"min_child_weight\", \"subsample\" } might not be used.\n",
      "\n",
      "  This could be a false alarm, with some parameters getting used by language bindings but\n",
      "  then being mistakenly passed down to XGBoost core, or some parameter actually being used\n",
      "  but getting flagged wrongly here. Please open an issue if you find any such cases.\n",
      "\n",
      "\n"
     ]
    },
    {
     "name": "stderr",
     "output_type": "stream",
     "text": [
      "\u001b[32m[I 2022-03-28 18:25:51,683]\u001b[0m Trial 14 finished with value: 0.3619160710902286 and parameters: {'max_depth': 6, 'learning_rate': 0.02, 'n_estimators': 4441, 'min_child_weight': 104, 'gamma': 0.9129719155850229, 'alpha': 0.00741011287941996, 'lambda': 0.036331580939102076, 'colsample_bytree': 0.5813207889911929, 'subsample': 0.4825304216345405}. Best is trial 2 with value: 0.3612390713217165.\u001b[0m\n"
     ]
    },
    {
     "name": "stdout",
     "output_type": "stream",
     "text": [
      "[18:25:51] WARNING: C:/Users/Administrator/workspace/xgboost-win64_release_1.5.1/src/learner.cc:576: \n",
      "Parameters: { \"colsample_bytree\", \"gamma\", \"max_depth\", \"min_child_weight\", \"subsample\" } might not be used.\n",
      "\n",
      "  This could be a false alarm, with some parameters getting used by language bindings but\n",
      "  then being mistakenly passed down to XGBoost core, or some parameter actually being used\n",
      "  but getting flagged wrongly here. Please open an issue if you find any such cases.\n",
      "\n",
      "\n"
     ]
    },
    {
     "name": "stderr",
     "output_type": "stream",
     "text": [
      "\u001b[32m[I 2022-03-28 18:26:41,570]\u001b[0m Trial 15 finished with value: 0.3614628060403331 and parameters: {'max_depth': 19, 'learning_rate': 0.1, 'n_estimators': 6432, 'min_child_weight': 6, 'gamma': 0.03141146904358259, 'alpha': 0.00011732627723583629, 'lambda': 7.652081733003675, 'colsample_bytree': 0.47077147506141825, 'subsample': 0.35260716510211076}. Best is trial 2 with value: 0.3612390713217165.\u001b[0m\n"
     ]
    },
    {
     "name": "stdout",
     "output_type": "stream",
     "text": [
      "[18:26:41] WARNING: C:/Users/Administrator/workspace/xgboost-win64_release_1.5.1/src/learner.cc:576: \n",
      "Parameters: { \"colsample_bytree\", \"gamma\", \"max_depth\", \"min_child_weight\", \"subsample\" } might not be used.\n",
      "\n",
      "  This could be a false alarm, with some parameters getting used by language bindings but\n",
      "  then being mistakenly passed down to XGBoost core, or some parameter actually being used\n",
      "  but getting flagged wrongly here. Please open an issue if you find any such cases.\n",
      "\n",
      "\n"
     ]
    },
    {
     "name": "stderr",
     "output_type": "stream",
     "text": [
      "\u001b[32m[I 2022-03-28 18:28:28,478]\u001b[0m Trial 16 finished with value: 0.3613120366658135 and parameters: {'max_depth': 10, 'learning_rate': 0.1, 'n_estimators': 5422, 'min_child_weight': 167, 'gamma': 0.014651861500407605, 'alpha': 0.0010889473983000165, 'lambda': 0.522255718317253, 'colsample_bytree': 0.7931896688412554, 'subsample': 0.10790403119775621}. Best is trial 2 with value: 0.3612390713217165.\u001b[0m\n"
     ]
    },
    {
     "name": "stdout",
     "output_type": "stream",
     "text": [
      "[18:28:28] WARNING: C:/Users/Administrator/workspace/xgboost-win64_release_1.5.1/src/learner.cc:576: \n",
      "Parameters: { \"colsample_bytree\", \"gamma\", \"max_depth\", \"min_child_weight\", \"subsample\" } might not be used.\n",
      "\n",
      "  This could be a false alarm, with some parameters getting used by language bindings but\n",
      "  then being mistakenly passed down to XGBoost core, or some parameter actually being used\n",
      "  but getting flagged wrongly here. Please open an issue if you find any such cases.\n",
      "\n",
      "\n"
     ]
    },
    {
     "name": "stderr",
     "output_type": "stream",
     "text": [
      "\u001b[32m[I 2022-03-28 18:31:26,412]\u001b[0m Trial 17 finished with value: 0.3612260417821249 and parameters: {'max_depth': 14, 'learning_rate': 0.08, 'n_estimators': 7394, 'min_child_weight': 246, 'gamma': 0.06732911303981783, 'alpha': 0.0004101244873955208, 'lambda': 0.0009058648405874197, 'colsample_bytree': 0.5988898442545675, 'subsample': 0.6940182392809582}. Best is trial 17 with value: 0.3612260417821249.\u001b[0m\n"
     ]
    },
    {
     "name": "stdout",
     "output_type": "stream",
     "text": [
      "[18:31:26] WARNING: C:/Users/Administrator/workspace/xgboost-win64_release_1.5.1/src/learner.cc:576: \n",
      "Parameters: { \"colsample_bytree\", \"gamma\", \"max_depth\", \"min_child_weight\", \"subsample\" } might not be used.\n",
      "\n",
      "  This could be a false alarm, with some parameters getting used by language bindings but\n",
      "  then being mistakenly passed down to XGBoost core, or some parameter actually being used\n",
      "  but getting flagged wrongly here. Please open an issue if you find any such cases.\n",
      "\n",
      "\n"
     ]
    },
    {
     "name": "stderr",
     "output_type": "stream",
     "text": [
      "\u001b[32m[I 2022-03-28 18:33:40,067]\u001b[0m Trial 18 finished with value: 0.361586584622314 and parameters: {'max_depth': 15, 'learning_rate': 0.08, 'n_estimators': 7225, 'min_child_weight': 267, 'gamma': 0.07030338202153903, 'alpha': 0.01848843553722974, 'lambda': 0.0007893779746478103, 'colsample_bytree': 0.6121451791055772, 'subsample': 0.6671164968445201}. Best is trial 17 with value: 0.3612260417821249.\u001b[0m\n"
     ]
    },
    {
     "name": "stdout",
     "output_type": "stream",
     "text": [
      "[18:33:40] WARNING: C:/Users/Administrator/workspace/xgboost-win64_release_1.5.1/src/learner.cc:576: \n",
      "Parameters: { \"colsample_bytree\", \"gamma\", \"max_depth\", \"min_child_weight\", \"subsample\" } might not be used.\n",
      "\n",
      "  This could be a false alarm, with some parameters getting used by language bindings but\n",
      "  then being mistakenly passed down to XGBoost core, or some parameter actually being used\n",
      "  but getting flagged wrongly here. Please open an issue if you find any such cases.\n",
      "\n",
      "\n"
     ]
    },
    {
     "name": "stderr",
     "output_type": "stream",
     "text": [
      "\u001b[32m[I 2022-03-28 18:36:53,511]\u001b[0m Trial 19 finished with value: 0.3612269809894618 and parameters: {'max_depth': 24, 'learning_rate': 0.08, 'n_estimators': 7803, 'min_child_weight': 243, 'gamma': 0.3643693856777806, 'alpha': 0.0005368277561186646, 'lambda': 0.00010448729140581447, 'colsample_bytree': 0.5222142055075876, 'subsample': 0.7978445581094498}. Best is trial 17 with value: 0.3612260417821249.\u001b[0m\n"
     ]
    },
    {
     "name": "stdout",
     "output_type": "stream",
     "text": [
      "[18:36:53] WARNING: C:/Users/Administrator/workspace/xgboost-win64_release_1.5.1/src/learner.cc:576: \n",
      "Parameters: { \"colsample_bytree\", \"gamma\", \"max_depth\", \"min_child_weight\", \"subsample\" } might not be used.\n",
      "\n",
      "  This could be a false alarm, with some parameters getting used by language bindings but\n",
      "  then being mistakenly passed down to XGBoost core, or some parameter actually being used\n",
      "  but getting flagged wrongly here. Please open an issue if you find any such cases.\n",
      "\n",
      "\n"
     ]
    },
    {
     "name": "stderr",
     "output_type": "stream",
     "text": [
      "\u001b[32m[I 2022-03-28 18:40:31,929]\u001b[0m Trial 20 finished with value: 0.3613288939666214 and parameters: {'max_depth': 25, 'learning_rate': 0.08, 'n_estimators': 7909, 'min_child_weight': 227, 'gamma': 0.06088124441833183, 'alpha': 0.0028013485711504524, 'lambda': 0.00013586922777302619, 'colsample_bytree': 0.42473656764024187, 'subsample': 0.7978283133966075}. Best is trial 17 with value: 0.3612260417821249.\u001b[0m\n"
     ]
    },
    {
     "name": "stdout",
     "output_type": "stream",
     "text": [
      "[18:40:32] WARNING: C:/Users/Administrator/workspace/xgboost-win64_release_1.5.1/src/learner.cc:576: \n",
      "Parameters: { \"colsample_bytree\", \"gamma\", \"max_depth\", \"min_child_weight\", \"subsample\" } might not be used.\n",
      "\n",
      "  This could be a false alarm, with some parameters getting used by language bindings but\n",
      "  then being mistakenly passed down to XGBoost core, or some parameter actually being used\n",
      "  but getting flagged wrongly here. Please open an issue if you find any such cases.\n",
      "\n",
      "\n"
     ]
    },
    {
     "name": "stderr",
     "output_type": "stream",
     "text": [
      "\u001b[32m[I 2022-03-28 18:43:25,938]\u001b[0m Trial 21 finished with value: 0.3612288124047564 and parameters: {'max_depth': 19, 'learning_rate': 0.08, 'n_estimators': 7038, 'min_child_weight': 245, 'gamma': 0.41886019884165526, 'alpha': 0.0004999998087296349, 'lambda': 0.0006324137813027628, 'colsample_bytree': 0.5186271712930692, 'subsample': 0.7066635815354909}. Best is trial 17 with value: 0.3612260417821249.\u001b[0m\n"
     ]
    },
    {
     "name": "stdout",
     "output_type": "stream",
     "text": [
      "[18:43:26] WARNING: C:/Users/Administrator/workspace/xgboost-win64_release_1.5.1/src/learner.cc:576: \n",
      "Parameters: { \"colsample_bytree\", \"gamma\", \"max_depth\", \"min_child_weight\", \"subsample\" } might not be used.\n",
      "\n",
      "  This could be a false alarm, with some parameters getting used by language bindings but\n",
      "  then being mistakenly passed down to XGBoost core, or some parameter actually being used\n",
      "  but getting flagged wrongly here. Please open an issue if you find any such cases.\n",
      "\n",
      "\n"
     ]
    },
    {
     "name": "stderr",
     "output_type": "stream",
     "text": [
      "\u001b[32m[I 2022-03-28 18:46:28,719]\u001b[0m Trial 22 finished with value: 0.3612275524197875 and parameters: {'max_depth': 19, 'learning_rate': 0.08, 'n_estimators': 7446, 'min_child_weight': 245, 'gamma': 0.31232389682278555, 'alpha': 0.0005158865304474763, 'lambda': 0.0001066430248150985, 'colsample_bytree': 0.6231976473901057, 'subsample': 0.6578311672648273}. Best is trial 17 with value: 0.3612260417821249.\u001b[0m\n"
     ]
    },
    {
     "name": "stdout",
     "output_type": "stream",
     "text": [
      "[18:46:29] WARNING: C:/Users/Administrator/workspace/xgboost-win64_release_1.5.1/src/learner.cc:576: \n",
      "Parameters: { \"colsample_bytree\", \"gamma\", \"max_depth\", \"min_child_weight\", \"subsample\" } might not be used.\n",
      "\n",
      "  This could be a false alarm, with some parameters getting used by language bindings but\n",
      "  then being mistakenly passed down to XGBoost core, or some parameter actually being used\n",
      "  but getting flagged wrongly here. Please open an issue if you find any such cases.\n",
      "\n",
      "\n"
     ]
    },
    {
     "name": "stderr",
     "output_type": "stream",
     "text": [
      "\u001b[32m[I 2022-03-28 18:51:33,714]\u001b[0m Trial 23 finished with value: 0.36136104252781637 and parameters: {'max_depth': 24, 'learning_rate': 0.08, 'n_estimators': 7684, 'min_child_weight': 177, 'gamma': 0.24990735510533568, 'alpha': 0.0036147402593759044, 'lambda': 0.00010137577906301424, 'colsample_bytree': 0.6313057155244408, 'subsample': 0.6542684996187386}. Best is trial 17 with value: 0.3612260417821249.\u001b[0m\n"
     ]
    },
    {
     "name": "stdout",
     "output_type": "stream",
     "text": [
      "[18:51:34] WARNING: C:/Users/Administrator/workspace/xgboost-win64_release_1.5.1/src/learner.cc:576: \n",
      "Parameters: { \"colsample_bytree\", \"gamma\", \"max_depth\", \"min_child_weight\", \"subsample\" } might not be used.\n",
      "\n",
      "  This could be a false alarm, with some parameters getting used by language bindings but\n",
      "  then being mistakenly passed down to XGBoost core, or some parameter actually being used\n",
      "  but getting flagged wrongly here. Please open an issue if you find any such cases.\n",
      "\n",
      "\n"
     ]
    },
    {
     "name": "stderr",
     "output_type": "stream",
     "text": [
      "\u001b[32m[I 2022-03-28 18:54:00,893]\u001b[0m Trial 24 finished with value: 0.3612365547319483 and parameters: {'max_depth': 21, 'learning_rate': 0.08, 'n_estimators': 6068, 'min_child_weight': 249, 'gamma': 0.08395954532824601, 'alpha': 0.00029611712227329607, 'lambda': 0.0007802136209453933, 'colsample_bytree': 0.7060312631640083, 'subsample': 0.5511817438282092}. Best is trial 17 with value: 0.3612260417821249.\u001b[0m\n"
     ]
    },
    {
     "name": "stdout",
     "output_type": "stream",
     "text": [
      "[18:54:01] WARNING: C:/Users/Administrator/workspace/xgboost-win64_release_1.5.1/src/learner.cc:576: \n",
      "Parameters: { \"colsample_bytree\", \"gamma\", \"max_depth\", \"min_child_weight\", \"subsample\" } might not be used.\n",
      "\n",
      "  This could be a false alarm, with some parameters getting used by language bindings but\n",
      "  then being mistakenly passed down to XGBoost core, or some parameter actually being used\n",
      "  but getting flagged wrongly here. Please open an issue if you find any such cases.\n",
      "\n",
      "\n"
     ]
    },
    {
     "name": "stderr",
     "output_type": "stream",
     "text": [
      "\u001b[32m[I 2022-03-28 18:56:24,414]\u001b[0m Trial 25 finished with value: 0.36331133363468626 and parameters: {'max_depth': 18, 'learning_rate': 0.005, 'n_estimators': 7523, 'min_child_weight': 288, 'gamma': 0.275522045932879, 'alpha': 0.0001000995289606605, 'lambda': 0.00026919283208468373, 'colsample_bytree': 0.5798541817080574, 'subsample': 0.748249759698365}. Best is trial 17 with value: 0.3612260417821249.\u001b[0m\n"
     ]
    },
    {
     "name": "stdout",
     "output_type": "stream",
     "text": [
      "[18:56:24] WARNING: C:/Users/Administrator/workspace/xgboost-win64_release_1.5.1/src/learner.cc:576: \n",
      "Parameters: { \"colsample_bytree\", \"gamma\", \"max_depth\", \"min_child_weight\", \"subsample\" } might not be used.\n",
      "\n",
      "  This could be a false alarm, with some parameters getting used by language bindings but\n",
      "  then being mistakenly passed down to XGBoost core, or some parameter actually being used\n",
      "  but getting flagged wrongly here. Please open an issue if you find any such cases.\n",
      "\n",
      "\n"
     ]
    },
    {
     "name": "stderr",
     "output_type": "stream",
     "text": [
      "\u001b[32m[I 2022-03-28 18:56:59,886]\u001b[0m Trial 26 finished with value: 0.36170450542943566 and parameters: {'max_depth': 13, 'learning_rate': 0.02, 'n_estimators': 6619, 'min_child_weight': 235, 'gamma': 0.13975269444809058, 'alpha': 0.31642439200022465, 'lambda': 0.00010294997620047247, 'colsample_bytree': 0.4731825489997388, 'subsample': 0.6229581204017358}. Best is trial 17 with value: 0.3612260417821249.\u001b[0m\n"
     ]
    },
    {
     "name": "stdout",
     "output_type": "stream",
     "text": [
      "[18:57:00] WARNING: C:/Users/Administrator/workspace/xgboost-win64_release_1.5.1/src/learner.cc:576: \n",
      "Parameters: { \"colsample_bytree\", \"gamma\", \"max_depth\", \"min_child_weight\", \"subsample\" } might not be used.\n",
      "\n",
      "  This could be a false alarm, with some parameters getting used by language bindings but\n",
      "  then being mistakenly passed down to XGBoost core, or some parameter actually being used\n",
      "  but getting flagged wrongly here. Please open an issue if you find any such cases.\n",
      "\n",
      "\n"
     ]
    },
    {
     "name": "stderr",
     "output_type": "stream",
     "text": [
      "\u001b[32m[I 2022-03-28 19:00:34,325]\u001b[0m Trial 27 finished with value: 0.3612856367909741 and parameters: {'max_depth': 21, 'learning_rate': 0.08, 'n_estimators': 6120, 'min_child_weight': 269, 'gamma': 0.9802795105380809, 'alpha': 0.00187805820054893, 'lambda': 0.0014573434809111603, 'colsample_bytree': 0.764873476866755, 'subsample': 0.791385217990656}. Best is trial 17 with value: 0.3612260417821249.\u001b[0m\n"
     ]
    },
    {
     "name": "stdout",
     "output_type": "stream",
     "text": [
      "[19:00:34] WARNING: C:/Users/Administrator/workspace/xgboost-win64_release_1.5.1/src/learner.cc:576: \n",
      "Parameters: { \"colsample_bytree\", \"gamma\", \"max_depth\", \"min_child_weight\", \"subsample\" } might not be used.\n",
      "\n",
      "  This could be a false alarm, with some parameters getting used by language bindings but\n",
      "  then being mistakenly passed down to XGBoost core, or some parameter actually being used\n",
      "  but getting flagged wrongly here. Please open an issue if you find any such cases.\n",
      "\n",
      "\n"
     ]
    },
    {
     "name": "stderr",
     "output_type": "stream",
     "text": [
      "\u001b[32m[I 2022-03-28 19:03:35,527]\u001b[0m Trial 28 finished with value: 0.3612677879504493 and parameters: {'max_depth': 26, 'learning_rate': 0.05, 'n_estimators': 7530, 'min_child_weight': 210, 'gamma': 0.046501067534578576, 'alpha': 0.00042141563430006285, 'lambda': 0.00034739269372700664, 'colsample_bytree': 0.675607116554215, 'subsample': 0.641909083579672}. Best is trial 17 with value: 0.3612260417821249.\u001b[0m\n"
     ]
    },
    {
     "name": "stdout",
     "output_type": "stream",
     "text": [
      "[19:03:35] WARNING: C:/Users/Administrator/workspace/xgboost-win64_release_1.5.1/src/learner.cc:576: \n",
      "Parameters: { \"colsample_bytree\", \"gamma\", \"max_depth\", \"min_child_weight\", \"subsample\" } might not be used.\n",
      "\n",
      "  This could be a false alarm, with some parameters getting used by language bindings but\n",
      "  then being mistakenly passed down to XGBoost core, or some parameter actually being used\n",
      "  but getting flagged wrongly here. Please open an issue if you find any such cases.\n",
      "\n",
      "\n"
     ]
    },
    {
     "name": "stderr",
     "output_type": "stream",
     "text": [
      "\u001b[32m[I 2022-03-28 19:06:02,661]\u001b[0m Trial 29 finished with value: 0.3615817012462798 and parameters: {'max_depth': 16, 'learning_rate': 0.08, 'n_estimators': 6850, 'min_child_weight': 299, 'gamma': 0.01634146185504153, 'alpha': 0.015687682071381187, 'lambda': 0.005565598373451915, 'colsample_bytree': 0.34501562351855775, 'subsample': 0.4882970010329588}. Best is trial 17 with value: 0.3612260417821249.\u001b[0m\n"
     ]
    },
    {
     "name": "stdout",
     "output_type": "stream",
     "text": [
      "[19:06:02] WARNING: C:/Users/Administrator/workspace/xgboost-win64_release_1.5.1/src/learner.cc:576: \n",
      "Parameters: { \"colsample_bytree\", \"gamma\", \"max_depth\", \"min_child_weight\", \"subsample\" } might not be used.\n",
      "\n",
      "  This could be a false alarm, with some parameters getting used by language bindings but\n",
      "  then being mistakenly passed down to XGBoost core, or some parameter actually being used\n",
      "  but getting flagged wrongly here. Please open an issue if you find any such cases.\n",
      "\n",
      "\n"
     ]
    },
    {
     "name": "stderr",
     "output_type": "stream",
     "text": [
      "\u001b[32m[I 2022-03-28 19:08:08,167]\u001b[0m Trial 30 finished with value: 0.36125226111770165 and parameters: {'max_depth': 17, 'learning_rate': 0.08, 'n_estimators': 5107, 'min_child_weight': 179, 'gamma': 0.4256283835755329, 'alpha': 0.0005176737414529361, 'lambda': 0.00019176267834612908, 'colsample_bytree': 0.600906188992181, 'subsample': 0.752115850884647}. Best is trial 17 with value: 0.3612260417821249.\u001b[0m\n"
     ]
    },
    {
     "name": "stdout",
     "output_type": "stream",
     "text": [
      "[19:08:08] WARNING: C:/Users/Administrator/workspace/xgboost-win64_release_1.5.1/src/learner.cc:576: \n",
      "Parameters: { \"colsample_bytree\", \"gamma\", \"max_depth\", \"min_child_weight\", \"subsample\" } might not be used.\n",
      "\n",
      "  This could be a false alarm, with some parameters getting used by language bindings but\n",
      "  then being mistakenly passed down to XGBoost core, or some parameter actually being used\n",
      "  but getting flagged wrongly here. Please open an issue if you find any such cases.\n",
      "\n",
      "\n"
     ]
    },
    {
     "name": "stderr",
     "output_type": "stream",
     "text": [
      "\u001b[32m[I 2022-03-28 19:10:59,844]\u001b[0m Trial 31 finished with value: 0.36122756785157983 and parameters: {'max_depth': 20, 'learning_rate': 0.08, 'n_estimators': 7109, 'min_child_weight': 245, 'gamma': 0.367068605633052, 'alpha': 0.0004330756093214202, 'lambda': 0.000526507121289756, 'colsample_bytree': 0.5482910949410541, 'subsample': 0.6891780970498977}. Best is trial 17 with value: 0.3612260417821249.\u001b[0m\n"
     ]
    },
    {
     "name": "stdout",
     "output_type": "stream",
     "text": [
      "[19:11:00] WARNING: C:/Users/Administrator/workspace/xgboost-win64_release_1.5.1/src/learner.cc:576: \n",
      "Parameters: { \"colsample_bytree\", \"gamma\", \"max_depth\", \"min_child_weight\", \"subsample\" } might not be used.\n",
      "\n",
      "  This could be a false alarm, with some parameters getting used by language bindings but\n",
      "  then being mistakenly passed down to XGBoost core, or some parameter actually being used\n",
      "  but getting flagged wrongly here. Please open an issue if you find any such cases.\n",
      "\n",
      "\n"
     ]
    },
    {
     "name": "stderr",
     "output_type": "stream",
     "text": [
      "\u001b[32m[I 2022-03-28 19:11:08,699]\u001b[0m Trial 32 finished with value: 0.3617240280963928 and parameters: {'max_depth': 22, 'learning_rate': 0.08, 'n_estimators': 7930, 'min_child_weight': 227, 'gamma': 0.1866170093137396, 'alpha': 9.203370675876899, 'lambda': 0.0005131682618323403, 'colsample_bytree': 0.5430008887909364, 'subsample': 0.6066217486898555}. Best is trial 17 with value: 0.3612260417821249.\u001b[0m\n"
     ]
    },
    {
     "name": "stdout",
     "output_type": "stream",
     "text": [
      "[19:11:09] WARNING: C:/Users/Administrator/workspace/xgboost-win64_release_1.5.1/src/learner.cc:576: \n",
      "Parameters: { \"colsample_bytree\", \"gamma\", \"max_depth\", \"min_child_weight\", \"subsample\" } might not be used.\n",
      "\n",
      "  This could be a false alarm, with some parameters getting used by language bindings but\n",
      "  then being mistakenly passed down to XGBoost core, or some parameter actually being used\n",
      "  but getting flagged wrongly here. Please open an issue if you find any such cases.\n",
      "\n",
      "\n"
     ]
    },
    {
     "name": "stderr",
     "output_type": "stream",
     "text": [
      "\u001b[32m[I 2022-03-28 19:14:52,832]\u001b[0m Trial 33 finished with value: 0.36129088755693445 and parameters: {'max_depth': 28, 'learning_rate': 0.08, 'n_estimators': 7199, 'min_child_weight': 259, 'gamma': 0.11529264308531775, 'alpha': 0.0019937777009273344, 'lambda': 0.0016231116384871208, 'colsample_bytree': 0.6305694151269583, 'subsample': 0.6798681360603964}. Best is trial 17 with value: 0.3612260417821249.\u001b[0m\n"
     ]
    },
    {
     "name": "stdout",
     "output_type": "stream",
     "text": [
      "[19:14:53] WARNING: C:/Users/Administrator/workspace/xgboost-win64_release_1.5.1/src/learner.cc:576: \n",
      "Parameters: { \"colsample_bytree\", \"gamma\", \"max_depth\", \"min_child_weight\", \"subsample\" } might not be used.\n",
      "\n",
      "  This could be a false alarm, with some parameters getting used by language bindings but\n",
      "  then being mistakenly passed down to XGBoost core, or some parameter actually being used\n",
      "  but getting flagged wrongly here. Please open an issue if you find any such cases.\n",
      "\n",
      "\n"
     ]
    },
    {
     "name": "stderr",
     "output_type": "stream",
     "text": [
      "\u001b[32m[I 2022-03-28 19:17:30,069]\u001b[0m Trial 34 finished with value: 0.3612325371511268 and parameters: {'max_depth': 20, 'learning_rate': 0.08, 'n_estimators': 6394, 'min_child_weight': 278, 'gamma': 0.3895010515618624, 'alpha': 0.0005428077718550739, 'lambda': 0.010926119144705362, 'colsample_bytree': 0.4601012225695761, 'subsample': 0.7041109140335146}. Best is trial 17 with value: 0.3612260417821249.\u001b[0m\n"
     ]
    },
    {
     "name": "stdout",
     "output_type": "stream",
     "text": [
      "[19:17:30] WARNING: C:/Users/Administrator/workspace/xgboost-win64_release_1.5.1/src/learner.cc:576: \n",
      "Parameters: { \"colsample_bytree\", \"gamma\", \"max_depth\", \"min_child_weight\", \"subsample\" } might not be used.\n",
      "\n",
      "  This could be a false alarm, with some parameters getting used by language bindings but\n",
      "  then being mistakenly passed down to XGBoost core, or some parameter actually being used\n",
      "  but getting flagged wrongly here. Please open an issue if you find any such cases.\n",
      "\n",
      "\n"
     ]
    },
    {
     "name": "stderr",
     "output_type": "stream",
     "text": [
      "\u001b[32m[I 2022-03-28 19:21:01,005]\u001b[0m Trial 35 finished with value: 0.36140471405598157 and parameters: {'max_depth': 17, 'learning_rate': 0.08, 'n_estimators': 7508, 'min_child_weight': 247, 'gamma': 0.6013164477106506, 'alpha': 0.0060884465600827544, 'lambda': 0.02222666919469234, 'colsample_bytree': 0.5638502263324424, 'subsample': 0.7282086584835473}. Best is trial 17 with value: 0.3612260417821249.\u001b[0m\n"
     ]
    },
    {
     "name": "stdout",
     "output_type": "stream",
     "text": [
      "[19:21:01] WARNING: C:/Users/Administrator/workspace/xgboost-win64_release_1.5.1/src/learner.cc:576: \n",
      "Parameters: { \"colsample_bytree\", \"gamma\", \"max_depth\", \"min_child_weight\", \"subsample\" } might not be used.\n",
      "\n",
      "  This could be a false alarm, with some parameters getting used by language bindings but\n",
      "  then being mistakenly passed down to XGBoost core, or some parameter actually being used\n",
      "  but getting flagged wrongly here. Please open an issue if you find any such cases.\n",
      "\n",
      "\n"
     ]
    },
    {
     "name": "stderr",
     "output_type": "stream",
     "text": [
      "\u001b[32m[I 2022-03-28 19:23:38,479]\u001b[0m Trial 36 finished with value: 0.36122837876019454 and parameters: {'max_depth': 13, 'learning_rate': 0.08, 'n_estimators': 6989, 'min_child_weight': 194, 'gamma': 0.04430369207773467, 'alpha': 0.00023186351369013043, 'lambda': 0.000979252688195769, 'colsample_bytree': 0.4974556628743642, 'subsample': 0.5527200751719646}. Best is trial 17 with value: 0.3612260417821249.\u001b[0m\n"
     ]
    },
    {
     "name": "stdout",
     "output_type": "stream",
     "text": [
      "[19:23:38] WARNING: C:/Users/Administrator/workspace/xgboost-win64_release_1.5.1/src/learner.cc:576: \n",
      "Parameters: { \"colsample_bytree\", \"gamma\", \"max_depth\", \"min_child_weight\", \"subsample\" } might not be used.\n",
      "\n",
      "  This could be a false alarm, with some parameters getting used by language bindings but\n",
      "  then being mistakenly passed down to XGBoost core, or some parameter actually being used\n",
      "  but getting flagged wrongly here. Please open an issue if you find any such cases.\n",
      "\n",
      "\n"
     ]
    },
    {
     "name": "stderr",
     "output_type": "stream",
     "text": [
      "\u001b[32m[I 2022-03-28 19:24:30,011]\u001b[0m Trial 37 finished with value: 0.36162241872934936 and parameters: {'max_depth': 23, 'learning_rate': 0.08, 'n_estimators': 5736, 'min_child_weight': 224, 'gamma': 0.11059352624828496, 'alpha': 0.06465424798264194, 'lambda': 0.0027364314550677527, 'colsample_bytree': 0.7219213773155745, 'subsample': 0.7615995522936411}. Best is trial 17 with value: 0.3612260417821249.\u001b[0m\n"
     ]
    },
    {
     "name": "stdout",
     "output_type": "stream",
     "text": [
      "[19:24:30] WARNING: C:/Users/Administrator/workspace/xgboost-win64_release_1.5.1/src/learner.cc:576: \n",
      "Parameters: { \"colsample_bytree\", \"gamma\", \"max_depth\", \"min_child_weight\", \"subsample\" } might not be used.\n",
      "\n",
      "  This could be a false alarm, with some parameters getting used by language bindings but\n",
      "  then being mistakenly passed down to XGBoost core, or some parameter actually being used\n",
      "  but getting flagged wrongly here. Please open an issue if you find any such cases.\n",
      "\n",
      "\n"
     ]
    },
    {
     "name": "stderr",
     "output_type": "stream",
     "text": [
      "\u001b[32m[I 2022-03-28 19:26:54,973]\u001b[0m Trial 38 finished with value: 0.36313691519674374 and parameters: {'max_depth': 25, 'learning_rate': 0.005, 'n_estimators': 7723, 'min_child_weight': 198, 'gamma': 0.29949055696664584, 'alpha': 0.0014464267994372187, 'lambda': 0.00048486951036363354, 'colsample_bytree': 0.6511021645328151, 'subsample': 0.6406366247111284}. Best is trial 17 with value: 0.3612260417821249.\u001b[0m\n"
     ]
    },
    {
     "name": "stdout",
     "output_type": "stream",
     "text": [
      "[19:26:55] WARNING: C:/Users/Administrator/workspace/xgboost-win64_release_1.5.1/src/learner.cc:576: \n",
      "Parameters: { \"colsample_bytree\", \"gamma\", \"max_depth\", \"min_child_weight\", \"subsample\" } might not be used.\n",
      "\n",
      "  This could be a false alarm, with some parameters getting used by language bindings but\n",
      "  then being mistakenly passed down to XGBoost core, or some parameter actually being used\n",
      "  but getting flagged wrongly here. Please open an issue if you find any such cases.\n",
      "\n",
      "\n"
     ]
    },
    {
     "name": "stderr",
     "output_type": "stream",
     "text": [
      "\u001b[32m[I 2022-03-28 19:27:07,362]\u001b[0m Trial 39 finished with value: 0.36170485535135716 and parameters: {'max_depth': 19, 'learning_rate': 0.08, 'n_estimators': 7235, 'min_child_weight': 257, 'gamma': 0.6771290293322637, 'alpha': 0.4194113363490923, 'lambda': 0.00016023184779704163, 'colsample_bytree': 0.41218083138607325, 'subsample': 0.44309950789243835}. Best is trial 17 with value: 0.3612260417821249.\u001b[0m\n"
     ]
    },
    {
     "name": "stdout",
     "output_type": "stream",
     "text": [
      "[19:27:07] WARNING: C:/Users/Administrator/workspace/xgboost-win64_release_1.5.1/src/learner.cc:576: \n",
      "Parameters: { \"colsample_bytree\", \"gamma\", \"max_depth\", \"min_child_weight\", \"subsample\" } might not be used.\n",
      "\n",
      "  This could be a false alarm, with some parameters getting used by language bindings but\n",
      "  then being mistakenly passed down to XGBoost core, or some parameter actually being used\n",
      "  but getting flagged wrongly here. Please open an issue if you find any such cases.\n",
      "\n",
      "\n"
     ]
    },
    {
     "name": "stderr",
     "output_type": "stream",
     "text": [
      "\u001b[32m[I 2022-03-28 19:28:31,420]\u001b[0m Trial 40 finished with value: 0.3619968153002285 and parameters: {'max_depth': 23, 'learning_rate': 0.02, 'n_estimators': 4450, 'min_child_weight': 281, 'gamma': 0.14544515230514674, 'alpha': 0.0006863158210507651, 'lambda': 0.00019899067167084868, 'colsample_bytree': 0.36350958877085704, 'subsample': 0.7195132803157045}. Best is trial 17 with value: 0.3612260417821249.\u001b[0m\n"
     ]
    },
    {
     "name": "stdout",
     "output_type": "stream",
     "text": [
      "[19:28:31] WARNING: C:/Users/Administrator/workspace/xgboost-win64_release_1.5.1/src/learner.cc:576: \n",
      "Parameters: { \"colsample_bytree\", \"gamma\", \"max_depth\", \"min_child_weight\", \"subsample\" } might not be used.\n",
      "\n",
      "  This could be a false alarm, with some parameters getting used by language bindings but\n",
      "  then being mistakenly passed down to XGBoost core, or some parameter actually being used\n",
      "  but getting flagged wrongly here. Please open an issue if you find any such cases.\n",
      "\n",
      "\n"
     ]
    },
    {
     "name": "stderr",
     "output_type": "stream",
     "text": [
      "\u001b[32m[I 2022-03-28 19:31:14,862]\u001b[0m Trial 41 finished with value: 0.36122915224853436 and parameters: {'max_depth': 13, 'learning_rate': 0.08, 'n_estimators': 6873, 'min_child_weight': 238, 'gamma': 0.044164003522713914, 'alpha': 0.00023374861931800683, 'lambda': 0.001039073193770106, 'colsample_bytree': 0.5046604613098994, 'subsample': 0.5683634641053974}. Best is trial 17 with value: 0.3612260417821249.\u001b[0m\n"
     ]
    },
    {
     "name": "stdout",
     "output_type": "stream",
     "text": [
      "[19:31:15] WARNING: C:/Users/Administrator/workspace/xgboost-win64_release_1.5.1/src/learner.cc:576: \n",
      "Parameters: { \"colsample_bytree\", \"gamma\", \"max_depth\", \"min_child_weight\", \"subsample\" } might not be used.\n",
      "\n",
      "  This could be a false alarm, with some parameters getting used by language bindings but\n",
      "  then being mistakenly passed down to XGBoost core, or some parameter actually being used\n",
      "  but getting flagged wrongly here. Please open an issue if you find any such cases.\n",
      "\n",
      "\n"
     ]
    },
    {
     "name": "stderr",
     "output_type": "stream",
     "text": [
      "\u001b[32m[I 2022-03-28 19:33:53,718]\u001b[0m Trial 42 finished with value: 0.36122841244257003 and parameters: {'max_depth': 8, 'learning_rate': 0.08, 'n_estimators': 7017, 'min_child_weight': 160, 'gamma': 0.009871826831051008, 'alpha': 0.00020329970053225435, 'lambda': 0.001210583901347616, 'colsample_bytree': 0.4874780627615151, 'subsample': 0.5317568074915056}. Best is trial 17 with value: 0.3612260417821249.\u001b[0m\n"
     ]
    },
    {
     "name": "stdout",
     "output_type": "stream",
     "text": [
      "[19:33:54] WARNING: C:/Users/Administrator/workspace/xgboost-win64_release_1.5.1/src/learner.cc:576: \n",
      "Parameters: { \"colsample_bytree\", \"gamma\", \"max_depth\", \"min_child_weight\", \"subsample\" } might not be used.\n",
      "\n",
      "  This could be a false alarm, with some parameters getting used by language bindings but\n",
      "  then being mistakenly passed down to XGBoost core, or some parameter actually being used\n",
      "  but getting flagged wrongly here. Please open an issue if you find any such cases.\n",
      "\n",
      "\n"
     ]
    },
    {
     "ename": "KeyboardInterrupt",
     "evalue": "",
     "output_type": "error",
     "traceback": [
      "\u001b[1;31m---------------------------------------------------------------------------\u001b[0m",
      "\u001b[1;31mKeyboardInterrupt\u001b[0m                         Traceback (most recent call last)",
      "\u001b[1;32m~\\AppData\\Local\\Temp/ipykernel_29388/3998100348.py\u001b[0m in \u001b[0;36m<module>\u001b[1;34m\u001b[0m\n\u001b[0;32m      1\u001b[0m \u001b[0mstudy\u001b[0m \u001b[1;33m=\u001b[0m \u001b[0moptuna\u001b[0m\u001b[1;33m.\u001b[0m\u001b[0mcreate_study\u001b[0m\u001b[1;33m(\u001b[0m\u001b[1;33m)\u001b[0m\u001b[1;33m\u001b[0m\u001b[1;33m\u001b[0m\u001b[0m\n\u001b[1;32m----> 2\u001b[1;33m \u001b[0mstudy\u001b[0m\u001b[1;33m.\u001b[0m\u001b[0moptimize\u001b[0m\u001b[1;33m(\u001b[0m\u001b[0mobjective\u001b[0m\u001b[1;33m,\u001b[0m \u001b[0mn_trials\u001b[0m \u001b[1;33m=\u001b[0m \u001b[1;36m50\u001b[0m\u001b[1;33m)\u001b[0m\u001b[1;33m\u001b[0m\u001b[1;33m\u001b[0m\u001b[0m\n\u001b[0m\u001b[0;32m      3\u001b[0m \u001b[0mprint\u001b[0m\u001b[1;33m(\u001b[0m\u001b[1;34m'Number of finished trials:'\u001b[0m\u001b[1;33m,\u001b[0m \u001b[0mlen\u001b[0m\u001b[1;33m(\u001b[0m\u001b[0mstudy\u001b[0m\u001b[1;33m.\u001b[0m\u001b[0mtrials\u001b[0m\u001b[1;33m)\u001b[0m\u001b[1;33m)\u001b[0m\u001b[1;33m\u001b[0m\u001b[1;33m\u001b[0m\u001b[0m\n\u001b[0;32m      4\u001b[0m \u001b[0mprint\u001b[0m\u001b[1;33m(\u001b[0m\u001b[1;34m'Best trial:'\u001b[0m\u001b[1;33m,\u001b[0m \u001b[0mstudy\u001b[0m\u001b[1;33m.\u001b[0m\u001b[0mbest_trial\u001b[0m\u001b[1;33m.\u001b[0m\u001b[0mparams\u001b[0m\u001b[1;33m)\u001b[0m\u001b[1;33m\u001b[0m\u001b[1;33m\u001b[0m\u001b[0m\n\u001b[0;32m      5\u001b[0m \u001b[0mprint\u001b[0m\u001b[1;33m(\u001b[0m\u001b[1;34m'Best value:'\u001b[0m\u001b[1;33m,\u001b[0m \u001b[0mstudy\u001b[0m\u001b[1;33m.\u001b[0m\u001b[0mbest_value\u001b[0m\u001b[1;33m)\u001b[0m\u001b[1;33m\u001b[0m\u001b[1;33m\u001b[0m\u001b[0m\n",
      "\u001b[1;32m~\\AppData\\Local\\Programs\\Python\\Python39\\lib\\site-packages\\optuna\\study\\study.py\u001b[0m in \u001b[0;36moptimize\u001b[1;34m(self, func, n_trials, timeout, n_jobs, catch, callbacks, gc_after_trial, show_progress_bar)\u001b[0m\n\u001b[0;32m    398\u001b[0m             )\n\u001b[0;32m    399\u001b[0m \u001b[1;33m\u001b[0m\u001b[0m\n\u001b[1;32m--> 400\u001b[1;33m         _optimize(\n\u001b[0m\u001b[0;32m    401\u001b[0m             \u001b[0mstudy\u001b[0m\u001b[1;33m=\u001b[0m\u001b[0mself\u001b[0m\u001b[1;33m,\u001b[0m\u001b[1;33m\u001b[0m\u001b[1;33m\u001b[0m\u001b[0m\n\u001b[0;32m    402\u001b[0m             \u001b[0mfunc\u001b[0m\u001b[1;33m=\u001b[0m\u001b[0mfunc\u001b[0m\u001b[1;33m,\u001b[0m\u001b[1;33m\u001b[0m\u001b[1;33m\u001b[0m\u001b[0m\n",
      "\u001b[1;32m~\\AppData\\Local\\Programs\\Python\\Python39\\lib\\site-packages\\optuna\\study\\_optimize.py\u001b[0m in \u001b[0;36m_optimize\u001b[1;34m(study, func, n_trials, timeout, n_jobs, catch, callbacks, gc_after_trial, show_progress_bar)\u001b[0m\n\u001b[0;32m     64\u001b[0m     \u001b[1;32mtry\u001b[0m\u001b[1;33m:\u001b[0m\u001b[1;33m\u001b[0m\u001b[1;33m\u001b[0m\u001b[0m\n\u001b[0;32m     65\u001b[0m         \u001b[1;32mif\u001b[0m \u001b[0mn_jobs\u001b[0m \u001b[1;33m==\u001b[0m \u001b[1;36m1\u001b[0m\u001b[1;33m:\u001b[0m\u001b[1;33m\u001b[0m\u001b[1;33m\u001b[0m\u001b[0m\n\u001b[1;32m---> 66\u001b[1;33m             _optimize_sequential(\n\u001b[0m\u001b[0;32m     67\u001b[0m                 \u001b[0mstudy\u001b[0m\u001b[1;33m,\u001b[0m\u001b[1;33m\u001b[0m\u001b[1;33m\u001b[0m\u001b[0m\n\u001b[0;32m     68\u001b[0m                 \u001b[0mfunc\u001b[0m\u001b[1;33m,\u001b[0m\u001b[1;33m\u001b[0m\u001b[1;33m\u001b[0m\u001b[0m\n",
      "\u001b[1;32m~\\AppData\\Local\\Programs\\Python\\Python39\\lib\\site-packages\\optuna\\study\\_optimize.py\u001b[0m in \u001b[0;36m_optimize_sequential\u001b[1;34m(study, func, n_trials, timeout, catch, callbacks, gc_after_trial, reseed_sampler_rng, time_start, progress_bar)\u001b[0m\n\u001b[0;32m    161\u001b[0m \u001b[1;33m\u001b[0m\u001b[0m\n\u001b[0;32m    162\u001b[0m         \u001b[1;32mtry\u001b[0m\u001b[1;33m:\u001b[0m\u001b[1;33m\u001b[0m\u001b[1;33m\u001b[0m\u001b[0m\n\u001b[1;32m--> 163\u001b[1;33m             \u001b[0mtrial\u001b[0m \u001b[1;33m=\u001b[0m \u001b[0m_run_trial\u001b[0m\u001b[1;33m(\u001b[0m\u001b[0mstudy\u001b[0m\u001b[1;33m,\u001b[0m \u001b[0mfunc\u001b[0m\u001b[1;33m,\u001b[0m \u001b[0mcatch\u001b[0m\u001b[1;33m)\u001b[0m\u001b[1;33m\u001b[0m\u001b[1;33m\u001b[0m\u001b[0m\n\u001b[0m\u001b[0;32m    164\u001b[0m         \u001b[1;32mexcept\u001b[0m \u001b[0mException\u001b[0m\u001b[1;33m:\u001b[0m\u001b[1;33m\u001b[0m\u001b[1;33m\u001b[0m\u001b[0m\n\u001b[0;32m    165\u001b[0m             \u001b[1;32mraise\u001b[0m\u001b[1;33m\u001b[0m\u001b[1;33m\u001b[0m\u001b[0m\n",
      "\u001b[1;32m~\\AppData\\Local\\Programs\\Python\\Python39\\lib\\site-packages\\optuna\\study\\_optimize.py\u001b[0m in \u001b[0;36m_run_trial\u001b[1;34m(study, func, catch)\u001b[0m\n\u001b[0;32m    211\u001b[0m \u001b[1;33m\u001b[0m\u001b[0m\n\u001b[0;32m    212\u001b[0m     \u001b[1;32mtry\u001b[0m\u001b[1;33m:\u001b[0m\u001b[1;33m\u001b[0m\u001b[1;33m\u001b[0m\u001b[0m\n\u001b[1;32m--> 213\u001b[1;33m         \u001b[0mvalue_or_values\u001b[0m \u001b[1;33m=\u001b[0m \u001b[0mfunc\u001b[0m\u001b[1;33m(\u001b[0m\u001b[0mtrial\u001b[0m\u001b[1;33m)\u001b[0m\u001b[1;33m\u001b[0m\u001b[1;33m\u001b[0m\u001b[0m\n\u001b[0m\u001b[0;32m    214\u001b[0m     \u001b[1;32mexcept\u001b[0m \u001b[0mexceptions\u001b[0m\u001b[1;33m.\u001b[0m\u001b[0mTrialPruned\u001b[0m \u001b[1;32mas\u001b[0m \u001b[0me\u001b[0m\u001b[1;33m:\u001b[0m\u001b[1;33m\u001b[0m\u001b[1;33m\u001b[0m\u001b[0m\n\u001b[0;32m    215\u001b[0m         \u001b[1;31m# TODO(mamu): Handle multi-objective cases.\u001b[0m\u001b[1;33m\u001b[0m\u001b[1;33m\u001b[0m\u001b[0m\n",
      "\u001b[1;32m~\\AppData\\Local\\Temp/ipykernel_29388/1303168460.py\u001b[0m in \u001b[0;36mobjective\u001b[1;34m(trial, data, target)\u001b[0m\n\u001b[0;32m     19\u001b[0m \u001b[1;33m\u001b[0m\u001b[0m\n\u001b[0;32m     20\u001b[0m     \u001b[0mmodel\u001b[0m \u001b[1;33m=\u001b[0m \u001b[0mxgb\u001b[0m\u001b[1;33m.\u001b[0m\u001b[0mXGBRegressor\u001b[0m\u001b[1;33m(\u001b[0m\u001b[1;33m**\u001b[0m\u001b[0mparams\u001b[0m\u001b[1;33m)\u001b[0m\u001b[1;33m\u001b[0m\u001b[1;33m\u001b[0m\u001b[0m\n\u001b[1;32m---> 21\u001b[1;33m     \u001b[0mmodel\u001b[0m\u001b[1;33m.\u001b[0m\u001b[0mfit\u001b[0m\u001b[1;33m(\u001b[0m\u001b[0mX_train\u001b[0m\u001b[1;33m,\u001b[0m \u001b[0my_train\u001b[0m\u001b[1;33m,\u001b[0m \u001b[0meval_set\u001b[0m \u001b[1;33m=\u001b[0m \u001b[1;33m[\u001b[0m\u001b[1;33m(\u001b[0m\u001b[0mX_val\u001b[0m\u001b[1;33m,\u001b[0m\u001b[0my_val\u001b[0m\u001b[1;33m)\u001b[0m\u001b[1;33m]\u001b[0m\u001b[1;33m,\u001b[0m \u001b[0mearly_stopping_rounds\u001b[0m \u001b[1;33m=\u001b[0m \u001b[1;36m333\u001b[0m\u001b[1;33m,\u001b[0m \u001b[0mverbose\u001b[0m \u001b[1;33m=\u001b[0m \u001b[1;32mFalse\u001b[0m\u001b[1;33m)\u001b[0m\u001b[1;33m\u001b[0m\u001b[1;33m\u001b[0m\u001b[0m\n\u001b[0m\u001b[0;32m     22\u001b[0m     \u001b[0my_pred\u001b[0m \u001b[1;33m=\u001b[0m \u001b[0mmodel\u001b[0m\u001b[1;33m.\u001b[0m\u001b[0mpredict\u001b[0m\u001b[1;33m(\u001b[0m\u001b[0mX_val\u001b[0m\u001b[1;33m)\u001b[0m\u001b[1;33m\u001b[0m\u001b[1;33m\u001b[0m\u001b[0m\n\u001b[0;32m     23\u001b[0m     \u001b[0mmse\u001b[0m \u001b[1;33m=\u001b[0m \u001b[0mmetric\u001b[0m\u001b[1;33m(\u001b[0m\u001b[0my_val\u001b[0m\u001b[1;33m,\u001b[0m \u001b[0my_pred\u001b[0m\u001b[1;33m)\u001b[0m\u001b[1;33m\u001b[0m\u001b[1;33m\u001b[0m\u001b[0m\n",
      "\u001b[1;32m~\\AppData\\Local\\Programs\\Python\\Python39\\lib\\site-packages\\xgboost\\core.py\u001b[0m in \u001b[0;36minner_f\u001b[1;34m(*args, **kwargs)\u001b[0m\n\u001b[0;32m    504\u001b[0m         \u001b[1;32mfor\u001b[0m \u001b[0mk\u001b[0m\u001b[1;33m,\u001b[0m \u001b[0marg\u001b[0m \u001b[1;32min\u001b[0m \u001b[0mzip\u001b[0m\u001b[1;33m(\u001b[0m\u001b[0msig\u001b[0m\u001b[1;33m.\u001b[0m\u001b[0mparameters\u001b[0m\u001b[1;33m,\u001b[0m \u001b[0margs\u001b[0m\u001b[1;33m)\u001b[0m\u001b[1;33m:\u001b[0m\u001b[1;33m\u001b[0m\u001b[1;33m\u001b[0m\u001b[0m\n\u001b[0;32m    505\u001b[0m             \u001b[0mkwargs\u001b[0m\u001b[1;33m[\u001b[0m\u001b[0mk\u001b[0m\u001b[1;33m]\u001b[0m \u001b[1;33m=\u001b[0m \u001b[0marg\u001b[0m\u001b[1;33m\u001b[0m\u001b[1;33m\u001b[0m\u001b[0m\n\u001b[1;32m--> 506\u001b[1;33m         \u001b[1;32mreturn\u001b[0m \u001b[0mf\u001b[0m\u001b[1;33m(\u001b[0m\u001b[1;33m**\u001b[0m\u001b[0mkwargs\u001b[0m\u001b[1;33m)\u001b[0m\u001b[1;33m\u001b[0m\u001b[1;33m\u001b[0m\u001b[0m\n\u001b[0m\u001b[0;32m    507\u001b[0m \u001b[1;33m\u001b[0m\u001b[0m\n\u001b[0;32m    508\u001b[0m     \u001b[1;32mreturn\u001b[0m \u001b[0minner_f\u001b[0m\u001b[1;33m\u001b[0m\u001b[1;33m\u001b[0m\u001b[0m\n",
      "\u001b[1;32m~\\AppData\\Local\\Programs\\Python\\Python39\\lib\\site-packages\\xgboost\\sklearn.py\u001b[0m in \u001b[0;36mfit\u001b[1;34m(self, X, y, sample_weight, base_margin, eval_set, eval_metric, early_stopping_rounds, verbose, xgb_model, sample_weight_eval_set, base_margin_eval_set, feature_weights, callbacks)\u001b[0m\n\u001b[0;32m    787\u001b[0m \u001b[1;33m\u001b[0m\u001b[0m\n\u001b[0;32m    788\u001b[0m         \u001b[0mmodel\u001b[0m\u001b[1;33m,\u001b[0m \u001b[0mfeval\u001b[0m\u001b[1;33m,\u001b[0m \u001b[0mparams\u001b[0m \u001b[1;33m=\u001b[0m \u001b[0mself\u001b[0m\u001b[1;33m.\u001b[0m\u001b[0m_configure_fit\u001b[0m\u001b[1;33m(\u001b[0m\u001b[0mxgb_model\u001b[0m\u001b[1;33m,\u001b[0m \u001b[0meval_metric\u001b[0m\u001b[1;33m,\u001b[0m \u001b[0mparams\u001b[0m\u001b[1;33m)\u001b[0m\u001b[1;33m\u001b[0m\u001b[1;33m\u001b[0m\u001b[0m\n\u001b[1;32m--> 789\u001b[1;33m         self._Booster = train(\n\u001b[0m\u001b[0;32m    790\u001b[0m             \u001b[0mparams\u001b[0m\u001b[1;33m,\u001b[0m\u001b[1;33m\u001b[0m\u001b[1;33m\u001b[0m\u001b[0m\n\u001b[0;32m    791\u001b[0m             \u001b[0mtrain_dmatrix\u001b[0m\u001b[1;33m,\u001b[0m\u001b[1;33m\u001b[0m\u001b[1;33m\u001b[0m\u001b[0m\n",
      "\u001b[1;32m~\\AppData\\Local\\Programs\\Python\\Python39\\lib\\site-packages\\xgboost\\training.py\u001b[0m in \u001b[0;36mtrain\u001b[1;34m(params, dtrain, num_boost_round, evals, obj, feval, maximize, early_stopping_rounds, evals_result, verbose_eval, xgb_model, callbacks)\u001b[0m\n\u001b[0;32m    186\u001b[0m     \u001b[0mBooster\u001b[0m \u001b[1;33m:\u001b[0m \u001b[0ma\u001b[0m \u001b[0mtrained\u001b[0m \u001b[0mbooster\u001b[0m \u001b[0mmodel\u001b[0m\u001b[1;33m\u001b[0m\u001b[1;33m\u001b[0m\u001b[0m\n\u001b[0;32m    187\u001b[0m     \"\"\"\n\u001b[1;32m--> 188\u001b[1;33m     bst = _train_internal(params, dtrain,\n\u001b[0m\u001b[0;32m    189\u001b[0m                           \u001b[0mnum_boost_round\u001b[0m\u001b[1;33m=\u001b[0m\u001b[0mnum_boost_round\u001b[0m\u001b[1;33m,\u001b[0m\u001b[1;33m\u001b[0m\u001b[1;33m\u001b[0m\u001b[0m\n\u001b[0;32m    190\u001b[0m                           \u001b[0mevals\u001b[0m\u001b[1;33m=\u001b[0m\u001b[0mevals\u001b[0m\u001b[1;33m,\u001b[0m\u001b[1;33m\u001b[0m\u001b[1;33m\u001b[0m\u001b[0m\n",
      "\u001b[1;32m~\\AppData\\Local\\Programs\\Python\\Python39\\lib\\site-packages\\xgboost\\training.py\u001b[0m in \u001b[0;36m_train_internal\u001b[1;34m(params, dtrain, num_boost_round, evals, obj, feval, xgb_model, callbacks, evals_result, maximize, verbose_eval, early_stopping_rounds)\u001b[0m\n\u001b[0;32m     79\u001b[0m         \u001b[1;32mif\u001b[0m \u001b[0mcallbacks\u001b[0m\u001b[1;33m.\u001b[0m\u001b[0mbefore_iteration\u001b[0m\u001b[1;33m(\u001b[0m\u001b[0mbst\u001b[0m\u001b[1;33m,\u001b[0m \u001b[0mi\u001b[0m\u001b[1;33m,\u001b[0m \u001b[0mdtrain\u001b[0m\u001b[1;33m,\u001b[0m \u001b[0mevals\u001b[0m\u001b[1;33m)\u001b[0m\u001b[1;33m:\u001b[0m\u001b[1;33m\u001b[0m\u001b[1;33m\u001b[0m\u001b[0m\n\u001b[0;32m     80\u001b[0m             \u001b[1;32mbreak\u001b[0m\u001b[1;33m\u001b[0m\u001b[1;33m\u001b[0m\u001b[0m\n\u001b[1;32m---> 81\u001b[1;33m         \u001b[0mbst\u001b[0m\u001b[1;33m.\u001b[0m\u001b[0mupdate\u001b[0m\u001b[1;33m(\u001b[0m\u001b[0mdtrain\u001b[0m\u001b[1;33m,\u001b[0m \u001b[0mi\u001b[0m\u001b[1;33m,\u001b[0m \u001b[0mobj\u001b[0m\u001b[1;33m)\u001b[0m\u001b[1;33m\u001b[0m\u001b[1;33m\u001b[0m\u001b[0m\n\u001b[0m\u001b[0;32m     82\u001b[0m         \u001b[1;32mif\u001b[0m \u001b[0mcallbacks\u001b[0m\u001b[1;33m.\u001b[0m\u001b[0mafter_iteration\u001b[0m\u001b[1;33m(\u001b[0m\u001b[0mbst\u001b[0m\u001b[1;33m,\u001b[0m \u001b[0mi\u001b[0m\u001b[1;33m,\u001b[0m \u001b[0mdtrain\u001b[0m\u001b[1;33m,\u001b[0m \u001b[0mevals\u001b[0m\u001b[1;33m)\u001b[0m\u001b[1;33m:\u001b[0m\u001b[1;33m\u001b[0m\u001b[1;33m\u001b[0m\u001b[0m\n\u001b[0;32m     83\u001b[0m             \u001b[1;32mbreak\u001b[0m\u001b[1;33m\u001b[0m\u001b[1;33m\u001b[0m\u001b[0m\n",
      "\u001b[1;32m~\\AppData\\Local\\Programs\\Python\\Python39\\lib\\site-packages\\xgboost\\core.py\u001b[0m in \u001b[0;36mupdate\u001b[1;34m(self, dtrain, iteration, fobj)\u001b[0m\n\u001b[0;32m   1678\u001b[0m \u001b[1;33m\u001b[0m\u001b[0m\n\u001b[0;32m   1679\u001b[0m         \u001b[1;32mif\u001b[0m \u001b[0mfobj\u001b[0m \u001b[1;32mis\u001b[0m \u001b[1;32mNone\u001b[0m\u001b[1;33m:\u001b[0m\u001b[1;33m\u001b[0m\u001b[1;33m\u001b[0m\u001b[0m\n\u001b[1;32m-> 1680\u001b[1;33m             _check_call(_LIB.XGBoosterUpdateOneIter(self.handle,\n\u001b[0m\u001b[0;32m   1681\u001b[0m                                                     \u001b[0mctypes\u001b[0m\u001b[1;33m.\u001b[0m\u001b[0mc_int\u001b[0m\u001b[1;33m(\u001b[0m\u001b[0miteration\u001b[0m\u001b[1;33m)\u001b[0m\u001b[1;33m,\u001b[0m\u001b[1;33m\u001b[0m\u001b[1;33m\u001b[0m\u001b[0m\n\u001b[0;32m   1682\u001b[0m                                                     dtrain.handle))\n",
      "\u001b[1;31mKeyboardInterrupt\u001b[0m: "
     ]
    }
   ],
   "source": [
    "study = optuna.create_study()\n",
    "study.optimize(objective, n_trials = 50)\n",
    "print('Number of finished trials:', len(study.trials))\n",
    "print('Best trial:', study.best_trial.params)\n",
    "print('Best value:', study.best_value)"
   ]
  },
  {
   "cell_type": "code",
   "execution_count": null,
   "id": "2ea10614",
   "metadata": {},
   "outputs": [],
   "source": []
  },
  {
   "cell_type": "code",
   "execution_count": 72,
   "id": "bdf64f1f",
   "metadata": {},
   "outputs": [],
   "source": [
    "def k_fold_cross_valid(model,x_train,y_train,n_splits=5):\n",
    "    \n",
    "    X = x_train.copy()\n",
    "    y = y_train.copy()\n",
    "\n",
    "    from sklearn.model_selection import KFold\n",
    "    kf = KFold(n_splits=5)\n",
    "    kf.get_n_splits(X)\n",
    "    res = []\n",
    "\n",
    "    for train_index, test_index in kf.split(X):\n",
    "        \n",
    "        X_train, X_test = X.iloc[train_index], X.iloc[test_index]\n",
    "        y_train, y_test = y.iloc[train_index], y.iloc[test_index]\n",
    "\n",
    "        model.fit(X_train,y_train)\n",
    "        y_pred = model.predict(X_test)\n",
    "    \n",
    "        res.append(metric(y_test,y_pred))\n",
    "        \n",
    "    print(\"RMSE:\",np.array(res).mean())"
   ]
  },
  {
   "cell_type": "code",
   "execution_count": 71,
   "id": "4b057e17",
   "metadata": {},
   "outputs": [],
   "source": [
    "def metric(y_test, y_pred):\n",
    "    rmse = mean_squared_error(y_test, y_pred , squared=False)\n",
    "    return rmse"
   ]
  },
  {
   "cell_type": "code",
   "execution_count": 87,
   "id": "99b7aa00",
   "metadata": {},
   "outputs": [
    {
     "name": "stdout",
     "output_type": "stream",
     "text": [
      "RMSE: 0.3598296035265301\n",
      "Wall time: 1min 21s\n"
     ]
    }
   ],
   "source": [
    "%%time\n",
    "xgb_reg = xgb.XGBRegressor(n_estimators=100,max_depth=6,\n",
    "                                learning_rate=0.08,\n",
    "                                subsample=0.7,gamma = 0.067,alpha=0.0004,\n",
    "                                colsample_bytree=0.6,min_child_weight=240,\n",
    "                                random_state = 42)\n",
    "k_fold_cross_valid(xgb_reg,train_df,target,n_splits=3)"
   ]
  },
  {
   "cell_type": "code",
   "execution_count": 88,
   "id": "8ba33425",
   "metadata": {},
   "outputs": [],
   "source": [
    "xgb_pred = xgb_reg.predict(test_df)\n",
    "xgbp = pd.DataFrame(xgb_pred,columns=['Accident_risk_index'])\n",
    "final1=pd.concat([test['postcode'],xgbp['Accident_risk_index']],axis=1)\n",
    "final1=final1.groupby('postcode',as_index=False).agg({'Accident_risk_index' : 'mean'})\n",
    "final1.to_csv(\"xgb_pred.csv\",index=False)"
   ]
  },
  {
   "cell_type": "code",
   "execution_count": 89,
   "id": "e6369cea",
   "metadata": {},
   "outputs": [
    {
     "data": {
      "text/html": [
       "<div>\n",
       "<style scoped>\n",
       "    .dataframe tbody tr th:only-of-type {\n",
       "        vertical-align: middle;\n",
       "    }\n",
       "\n",
       "    .dataframe tbody tr th {\n",
       "        vertical-align: top;\n",
       "    }\n",
       "\n",
       "    .dataframe thead th {\n",
       "        text-align: right;\n",
       "    }\n",
       "</style>\n",
       "<table border=\"1\" class=\"dataframe\">\n",
       "  <thead>\n",
       "    <tr style=\"text-align: right;\">\n",
       "      <th></th>\n",
       "      <th>postcode</th>\n",
       "      <th>Accident_risk_index</th>\n",
       "    </tr>\n",
       "  </thead>\n",
       "  <tbody>\n",
       "    <tr>\n",
       "      <th>0</th>\n",
       "      <td>AB10 1AU</td>\n",
       "      <td>1.455465</td>\n",
       "    </tr>\n",
       "    <tr>\n",
       "      <th>1</th>\n",
       "      <td>AB10 1PG</td>\n",
       "      <td>1.460550</td>\n",
       "    </tr>\n",
       "    <tr>\n",
       "      <th>2</th>\n",
       "      <td>AB10 1TT</td>\n",
       "      <td>1.503684</td>\n",
       "    </tr>\n",
       "    <tr>\n",
       "      <th>3</th>\n",
       "      <td>AB10 1YP</td>\n",
       "      <td>1.458755</td>\n",
       "    </tr>\n",
       "    <tr>\n",
       "      <th>4</th>\n",
       "      <td>AB10 6LQ</td>\n",
       "      <td>1.425075</td>\n",
       "    </tr>\n",
       "    <tr>\n",
       "      <th>...</th>\n",
       "      <td>...</td>\n",
       "      <td>...</td>\n",
       "    </tr>\n",
       "    <tr>\n",
       "      <th>49767</th>\n",
       "      <td>ZE2 9LZ</td>\n",
       "      <td>1.429066</td>\n",
       "    </tr>\n",
       "    <tr>\n",
       "      <th>49768</th>\n",
       "      <td>ZE2 9RE</td>\n",
       "      <td>1.435767</td>\n",
       "    </tr>\n",
       "    <tr>\n",
       "      <th>49769</th>\n",
       "      <td>ZE2 9RJ</td>\n",
       "      <td>1.412882</td>\n",
       "    </tr>\n",
       "    <tr>\n",
       "      <th>49770</th>\n",
       "      <td>ZE2 9SB</td>\n",
       "      <td>1.486296</td>\n",
       "    </tr>\n",
       "    <tr>\n",
       "      <th>49771</th>\n",
       "      <td>ZE2 9SD</td>\n",
       "      <td>1.437219</td>\n",
       "    </tr>\n",
       "  </tbody>\n",
       "</table>\n",
       "<p>49772 rows × 2 columns</p>\n",
       "</div>"
      ],
      "text/plain": [
       "       postcode  Accident_risk_index\n",
       "0      AB10 1AU             1.455465\n",
       "1      AB10 1PG             1.460550\n",
       "2      AB10 1TT             1.503684\n",
       "3      AB10 1YP             1.458755\n",
       "4      AB10 6LQ             1.425075\n",
       "...         ...                  ...\n",
       "49767   ZE2 9LZ             1.429066\n",
       "49768   ZE2 9RE             1.435767\n",
       "49769   ZE2 9RJ             1.412882\n",
       "49770   ZE2 9SB             1.486296\n",
       "49771   ZE2 9SD             1.437219\n",
       "\n",
       "[49772 rows x 2 columns]"
      ]
     },
     "execution_count": 89,
     "metadata": {},
     "output_type": "execute_result"
    }
   ],
   "source": [
    "final1"
   ]
  },
  {
   "cell_type": "code",
   "execution_count": null,
   "id": "43557180",
   "metadata": {},
   "outputs": [],
   "source": []
  }
 ],
 "metadata": {
  "kernelspec": {
   "display_name": "Python 3 (ipykernel)",
   "language": "python",
   "name": "python3"
  },
  "language_info": {
   "codemirror_mode": {
    "name": "ipython",
    "version": 3
   },
   "file_extension": ".py",
   "mimetype": "text/x-python",
   "name": "python",
   "nbconvert_exporter": "python",
   "pygments_lexer": "ipython3",
   "version": "3.9.7"
  }
 },
 "nbformat": 4,
 "nbformat_minor": 5
}
